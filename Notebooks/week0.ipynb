{
 "cells": [
  {
   "cell_type": "code",
   "execution_count": 38,
   "metadata": {},
   "outputs": [],
   "source": [
    "import pandas as pd\n",
    "from collections import Counter\n",
    "import re\n",
    "import spacy\n",
    "import pycountry\n",
    "from urllib.parse import urlparse\n",
    "import matplotlib.pyplot as plt\n",
    "import seaborn as sns\n",
    "import numpy as np\n",
    "import string\n",
    "import nltk\n",
    "from nltk.corpus import stopwords\n",
    "from nltk.tokenize import word_tokenize\n",
    "from nltk.stem import WordNetLemmatizer\n",
    "from sklearn.feature_extraction.text import TfidfVectorizer\n",
    "from sklearn.metrics.pairwise import cosine_similarity\n",
    "from sklearn.decomposition import LatentDirichletAllocation\n",
    "from sklearn.feature_extraction.text import CountVectorizer"
   ]
  },
  {
   "cell_type": "code",
   "execution_count": 2,
   "metadata": {},
   "outputs": [],
   "source": [
    "df_data = pd.read_csv(\"/media/moraa/New Volume/Ontita/10Academy/Cohort B/Projects/week0/Datasets/data.csv/rating.csv\")\n",
    "df_raw = pd.read_csv(\"/media/moraa/New Volume/Ontita/10Academy/Cohort B/Projects/week0/Datasets/raw_data/data.csv\")\n",
    "df_traffic = pd.read_csv(\"/media/moraa/New Volume/Ontita/10Academy/Cohort B/Projects/week0/Datasets/traffic_data/traffic.csv\")\n",
    "df_domains = pd.read_csv(\"/media/moraa/New Volume/Ontita/10Academy/Cohort B/Projects/week0/Datasets/domains_location.csv\")"
   ]
  },
  {
   "cell_type": "code",
   "execution_count": 3,
   "metadata": {},
   "outputs": [
    {
     "data": {
      "text/html": [
       "<div>\n",
       "<style scoped>\n",
       "    .dataframe tbody tr th:only-of-type {\n",
       "        vertical-align: middle;\n",
       "    }\n",
       "\n",
       "    .dataframe tbody tr th {\n",
       "        vertical-align: top;\n",
       "    }\n",
       "\n",
       "    .dataframe thead th {\n",
       "        text-align: right;\n",
       "    }\n",
       "</style>\n",
       "<table border=\"1\" class=\"dataframe\">\n",
       "  <thead>\n",
       "    <tr style=\"text-align: right;\">\n",
       "      <th></th>\n",
       "      <th>article_id</th>\n",
       "      <th>source_id</th>\n",
       "      <th>source_name</th>\n",
       "      <th>author</th>\n",
       "      <th>title</th>\n",
       "      <th>description</th>\n",
       "      <th>url</th>\n",
       "      <th>url_to_image</th>\n",
       "      <th>published_at</th>\n",
       "      <th>content</th>\n",
       "      <th>category</th>\n",
       "      <th>article</th>\n",
       "      <th>title_sentiment</th>\n",
       "    </tr>\n",
       "  </thead>\n",
       "  <tbody>\n",
       "    <tr>\n",
       "      <th>0</th>\n",
       "      <td>81664</td>\n",
       "      <td>NaN</td>\n",
       "      <td>Forbes</td>\n",
       "      <td>Elizabeth Brownfield, Contributor, \\n Elizabet...</td>\n",
       "      <td>superstar chef yannick alléno brings refined f...</td>\n",
       "      <td>Now open in Mayfair at Four Seasons Hotel Lond...</td>\n",
       "      <td>https://www.forbes.com/sites/elizabethbrownfie...</td>\n",
       "      <td>https://imageio.forbes.com/specials-images/ima...</td>\n",
       "      <td>2023-11-01 03:27:21.000000</td>\n",
       "      <td>Pavyllon London, at Four Seasons Hotel London ...</td>\n",
       "      <td>Monaco</td>\n",
       "      <td>pavyllon london, at four seasons hotel london ...</td>\n",
       "      <td>Neutral</td>\n",
       "    </tr>\n",
       "    <tr>\n",
       "      <th>1</th>\n",
       "      <td>81667</td>\n",
       "      <td>NaN</td>\n",
       "      <td>CNA</td>\n",
       "      <td>NaN</td>\n",
       "      <td>nice claim top spot in ligue 1 with late win a...</td>\n",
       "      <td>Nice moved into provisional first place in the...</td>\n",
       "      <td>https://www.channelnewsasia.com/sport/nice-cla...</td>\n",
       "      <td>https://onecms-res.cloudinary.com/image/upload...</td>\n",
       "      <td>2023-10-27 21:28:48.000000</td>\n",
       "      <td>Nice moved into provisional first place in the...</td>\n",
       "      <td>Monaco</td>\n",
       "      <td>nice moved into provisional first place in the...</td>\n",
       "      <td>Positive</td>\n",
       "    </tr>\n",
       "    <tr>\n",
       "      <th>2</th>\n",
       "      <td>81694</td>\n",
       "      <td>time</td>\n",
       "      <td>Time</td>\n",
       "      <td>Christina Larson / AP</td>\n",
       "      <td>amphibians are the world’s most vulnerable spe...</td>\n",
       "      <td>The world’s frogs, salamanders, newts, and oth...</td>\n",
       "      <td>https://time.com/6320467/amphibians-most-vulne...</td>\n",
       "      <td>https://api.time.com/wp-content/uploads/2023/1...</td>\n",
       "      <td>2023-10-04 17:36:18.000000</td>\n",
       "      <td>The worlds frogs, salamanders, newts and other...</td>\n",
       "      <td>Madagascar</td>\n",
       "      <td>the world’s frogs, salamanders, newts and othe...</td>\n",
       "      <td>Negative</td>\n",
       "    </tr>\n",
       "    <tr>\n",
       "      <th>3</th>\n",
       "      <td>81695</td>\n",
       "      <td>NaN</td>\n",
       "      <td>Phys.Org</td>\n",
       "      <td>Sara Schmidt</td>\n",
       "      <td>image: rusty red waters in madagascar</td>\n",
       "      <td>Iron-rich sediment colors the red-orange water...</td>\n",
       "      <td>https://phys.org/news/2023-10-image-rusty-red-...</td>\n",
       "      <td>https://scx2.b-cdn.net/gfx/news/2023/image-rus...</td>\n",
       "      <td>2023-10-31 18:04:02.000000</td>\n",
       "      <td>Iron-rich sediment colors the red-orange water...</td>\n",
       "      <td>Madagascar</td>\n",
       "      <td>iron-rich sediment colors the red-orange water...</td>\n",
       "      <td>Neutral</td>\n",
       "    </tr>\n",
       "    <tr>\n",
       "      <th>4</th>\n",
       "      <td>81703</td>\n",
       "      <td>NaN</td>\n",
       "      <td>Digital Trends</td>\n",
       "      <td>Jason Struss</td>\n",
       "      <td>everything leaving max (formerly hbo max) in n...</td>\n",
       "      <td>From Gangs of London to Fear the Walking Dead ...</td>\n",
       "      <td>https://www.digitaltrends.com/movies/everythin...</td>\n",
       "      <td>https://www.digitaltrends.com/wp-content/uploa...</td>\n",
       "      <td>2023-10-23 23:09:18.000000</td>\n",
       "      <td>Everything ends. No, I’m not having an existen...</td>\n",
       "      <td>Madagascar</td>\n",
       "      <td>everything ends. no, i’m not having an existen...</td>\n",
       "      <td>Neutral</td>\n",
       "    </tr>\n",
       "  </tbody>\n",
       "</table>\n",
       "</div>"
      ],
      "text/plain": [
       "   article_id source_id     source_name  \\\n",
       "0       81664       NaN          Forbes   \n",
       "1       81667       NaN             CNA   \n",
       "2       81694      time            Time   \n",
       "3       81695       NaN        Phys.Org   \n",
       "4       81703       NaN  Digital Trends   \n",
       "\n",
       "                                              author  \\\n",
       "0  Elizabeth Brownfield, Contributor, \\n Elizabet...   \n",
       "1                                                NaN   \n",
       "2                              Christina Larson / AP   \n",
       "3                                       Sara Schmidt   \n",
       "4                                       Jason Struss   \n",
       "\n",
       "                                               title  \\\n",
       "0  superstar chef yannick alléno brings refined f...   \n",
       "1  nice claim top spot in ligue 1 with late win a...   \n",
       "2  amphibians are the world’s most vulnerable spe...   \n",
       "3              image: rusty red waters in madagascar   \n",
       "4  everything leaving max (formerly hbo max) in n...   \n",
       "\n",
       "                                         description  \\\n",
       "0  Now open in Mayfair at Four Seasons Hotel Lond...   \n",
       "1  Nice moved into provisional first place in the...   \n",
       "2  The world’s frogs, salamanders, newts, and oth...   \n",
       "3  Iron-rich sediment colors the red-orange water...   \n",
       "4  From Gangs of London to Fear the Walking Dead ...   \n",
       "\n",
       "                                                 url  \\\n",
       "0  https://www.forbes.com/sites/elizabethbrownfie...   \n",
       "1  https://www.channelnewsasia.com/sport/nice-cla...   \n",
       "2  https://time.com/6320467/amphibians-most-vulne...   \n",
       "3  https://phys.org/news/2023-10-image-rusty-red-...   \n",
       "4  https://www.digitaltrends.com/movies/everythin...   \n",
       "\n",
       "                                        url_to_image  \\\n",
       "0  https://imageio.forbes.com/specials-images/ima...   \n",
       "1  https://onecms-res.cloudinary.com/image/upload...   \n",
       "2  https://api.time.com/wp-content/uploads/2023/1...   \n",
       "3  https://scx2.b-cdn.net/gfx/news/2023/image-rus...   \n",
       "4  https://www.digitaltrends.com/wp-content/uploa...   \n",
       "\n",
       "                 published_at  \\\n",
       "0  2023-11-01 03:27:21.000000   \n",
       "1  2023-10-27 21:28:48.000000   \n",
       "2  2023-10-04 17:36:18.000000   \n",
       "3  2023-10-31 18:04:02.000000   \n",
       "4  2023-10-23 23:09:18.000000   \n",
       "\n",
       "                                             content    category  \\\n",
       "0  Pavyllon London, at Four Seasons Hotel London ...      Monaco   \n",
       "1  Nice moved into provisional first place in the...      Monaco   \n",
       "2  The worlds frogs, salamanders, newts and other...  Madagascar   \n",
       "3  Iron-rich sediment colors the red-orange water...  Madagascar   \n",
       "4  Everything ends. No, I’m not having an existen...  Madagascar   \n",
       "\n",
       "                                             article title_sentiment  \n",
       "0  pavyllon london, at four seasons hotel london ...         Neutral  \n",
       "1  nice moved into provisional first place in the...        Positive  \n",
       "2  the world’s frogs, salamanders, newts and othe...        Negative  \n",
       "3  iron-rich sediment colors the red-orange water...         Neutral  \n",
       "4  everything ends. no, i’m not having an existen...         Neutral  "
      ]
     },
     "execution_count": 3,
     "metadata": {},
     "output_type": "execute_result"
    }
   ],
   "source": [
    "df_data.head()"
   ]
  },
  {
   "cell_type": "code",
   "execution_count": 4,
   "metadata": {},
   "outputs": [
    {
     "data": {
      "text/html": [
       "<div>\n",
       "<style scoped>\n",
       "    .dataframe tbody tr th:only-of-type {\n",
       "        vertical-align: middle;\n",
       "    }\n",
       "\n",
       "    .dataframe tbody tr th {\n",
       "        vertical-align: top;\n",
       "    }\n",
       "\n",
       "    .dataframe thead th {\n",
       "        text-align: right;\n",
       "    }\n",
       "</style>\n",
       "<table border=\"1\" class=\"dataframe\">\n",
       "  <thead>\n",
       "    <tr style=\"text-align: right;\">\n",
       "      <th></th>\n",
       "      <th>article_id</th>\n",
       "      <th>source_id</th>\n",
       "      <th>source_name</th>\n",
       "      <th>author</th>\n",
       "      <th>title</th>\n",
       "      <th>description</th>\n",
       "      <th>url</th>\n",
       "      <th>url_to_image</th>\n",
       "      <th>published_at</th>\n",
       "      <th>content</th>\n",
       "      <th>category</th>\n",
       "      <th>full_content</th>\n",
       "    </tr>\n",
       "  </thead>\n",
       "  <tbody>\n",
       "    <tr>\n",
       "      <th>0</th>\n",
       "      <td>89541</td>\n",
       "      <td>NaN</td>\n",
       "      <td>International Business Times</td>\n",
       "      <td>Paavan MATHEMA</td>\n",
       "      <td>UN Chief Urges World To 'Stop The Madness' Of ...</td>\n",
       "      <td>UN Secretary-General Antonio Guterres urged th...</td>\n",
       "      <td>https://www.ibtimes.com/un-chief-urges-world-s...</td>\n",
       "      <td>https://d.ibtimes.com/en/full/4496078/nepals-g...</td>\n",
       "      <td>2023-10-30 10:12:35.000000</td>\n",
       "      <td>UN Secretary-General Antonio Guterres urged th...</td>\n",
       "      <td>Nepal</td>\n",
       "      <td>UN Secretary-General Antonio Guterres urged th...</td>\n",
       "    </tr>\n",
       "    <tr>\n",
       "      <th>1</th>\n",
       "      <td>89542</td>\n",
       "      <td>NaN</td>\n",
       "      <td>Prtimes.jp</td>\n",
       "      <td>NaN</td>\n",
       "      <td>RANDEBOOよりワンランク上の大人っぽさが漂うニットとベストが新登場。</td>\n",
       "      <td>[株式会社Ainer]\\nRANDEBOO（ランデブー）では2023年7月18日(火)より公...</td>\n",
       "      <td>https://prtimes.jp/main/html/rd/p/000000147.00...</td>\n",
       "      <td>https://prtimes.jp/i/32220/147/ogp/d32220-147-...</td>\n",
       "      <td>2023-10-06 04:40:02.000000</td>\n",
       "      <td>RANDEBOO2023718()WEB2023 Autumn Winter \\n\"Nepa...</td>\n",
       "      <td>Nepal</td>\n",
       "      <td>NaN</td>\n",
       "    </tr>\n",
       "    <tr>\n",
       "      <th>2</th>\n",
       "      <td>89543</td>\n",
       "      <td>NaN</td>\n",
       "      <td>VOA News</td>\n",
       "      <td>webdesk@voanews.com (Agence France-Presse)</td>\n",
       "      <td>UN Chief Urges World to 'Stop the Madness' of ...</td>\n",
       "      <td>UN Secretary-General Antonio Guterres urged th...</td>\n",
       "      <td>https://www.voanews.com/a/un-chief-urges-world...</td>\n",
       "      <td>https://gdb.voanews.com/01000000-0a00-0242-60f...</td>\n",
       "      <td>2023-10-30 10:53:30.000000</td>\n",
       "      <td>Kathmandu, Nepal  UN Secretary-General Antonio...</td>\n",
       "      <td>Nepal</td>\n",
       "      <td>NaN</td>\n",
       "    </tr>\n",
       "    <tr>\n",
       "      <th>3</th>\n",
       "      <td>89545</td>\n",
       "      <td>NaN</td>\n",
       "      <td>The Indian Express</td>\n",
       "      <td>Editorial</td>\n",
       "      <td>Sikkim warning: Hydroelectricity push must be ...</td>\n",
       "      <td>Ecologists caution against the adverse effects...</td>\n",
       "      <td>https://indianexpress.com/article/opinion/edit...</td>\n",
       "      <td>https://images.indianexpress.com/2023/10/edit-...</td>\n",
       "      <td>2023-10-06 01:20:24.000000</td>\n",
       "      <td>At least 14 persons lost their lives and more ...</td>\n",
       "      <td>Nepal</td>\n",
       "      <td>At least 14 persons lost their lives and more ...</td>\n",
       "    </tr>\n",
       "    <tr>\n",
       "      <th>4</th>\n",
       "      <td>89547</td>\n",
       "      <td>NaN</td>\n",
       "      <td>The Times of Israel</td>\n",
       "      <td>Jacob Magid</td>\n",
       "      <td>200 foreigners, dual nationals cut down in Ham...</td>\n",
       "      <td>France lost 35 citizens, Thailand 33, US 31, U...</td>\n",
       "      <td>https://www.timesofisrael.com/200-foreigners-d...</td>\n",
       "      <td>https://static.timesofisrael.com/www/uploads/2...</td>\n",
       "      <td>2023-10-27 01:08:34.000000</td>\n",
       "      <td>Scores of foreign citizens were killed, taken ...</td>\n",
       "      <td>Nepal</td>\n",
       "      <td>NaN</td>\n",
       "    </tr>\n",
       "  </tbody>\n",
       "</table>\n",
       "</div>"
      ],
      "text/plain": [
       "   article_id source_id                   source_name  \\\n",
       "0       89541       NaN  International Business Times   \n",
       "1       89542       NaN                    Prtimes.jp   \n",
       "2       89543       NaN                      VOA News   \n",
       "3       89545       NaN            The Indian Express   \n",
       "4       89547       NaN           The Times of Israel   \n",
       "\n",
       "                                       author  \\\n",
       "0                              Paavan MATHEMA   \n",
       "1                                         NaN   \n",
       "2  webdesk@voanews.com (Agence France-Presse)   \n",
       "3                                   Editorial   \n",
       "4                                 Jacob Magid   \n",
       "\n",
       "                                               title  \\\n",
       "0  UN Chief Urges World To 'Stop The Madness' Of ...   \n",
       "1              RANDEBOOよりワンランク上の大人っぽさが漂うニットとベストが新登場。   \n",
       "2  UN Chief Urges World to 'Stop the Madness' of ...   \n",
       "3  Sikkim warning: Hydroelectricity push must be ...   \n",
       "4  200 foreigners, dual nationals cut down in Ham...   \n",
       "\n",
       "                                         description  \\\n",
       "0  UN Secretary-General Antonio Guterres urged th...   \n",
       "1  [株式会社Ainer]\\nRANDEBOO（ランデブー）では2023年7月18日(火)より公...   \n",
       "2  UN Secretary-General Antonio Guterres urged th...   \n",
       "3  Ecologists caution against the adverse effects...   \n",
       "4  France lost 35 citizens, Thailand 33, US 31, U...   \n",
       "\n",
       "                                                 url  \\\n",
       "0  https://www.ibtimes.com/un-chief-urges-world-s...   \n",
       "1  https://prtimes.jp/main/html/rd/p/000000147.00...   \n",
       "2  https://www.voanews.com/a/un-chief-urges-world...   \n",
       "3  https://indianexpress.com/article/opinion/edit...   \n",
       "4  https://www.timesofisrael.com/200-foreigners-d...   \n",
       "\n",
       "                                        url_to_image  \\\n",
       "0  https://d.ibtimes.com/en/full/4496078/nepals-g...   \n",
       "1  https://prtimes.jp/i/32220/147/ogp/d32220-147-...   \n",
       "2  https://gdb.voanews.com/01000000-0a00-0242-60f...   \n",
       "3  https://images.indianexpress.com/2023/10/edit-...   \n",
       "4  https://static.timesofisrael.com/www/uploads/2...   \n",
       "\n",
       "                 published_at  \\\n",
       "0  2023-10-30 10:12:35.000000   \n",
       "1  2023-10-06 04:40:02.000000   \n",
       "2  2023-10-30 10:53:30.000000   \n",
       "3  2023-10-06 01:20:24.000000   \n",
       "4  2023-10-27 01:08:34.000000   \n",
       "\n",
       "                                             content category  \\\n",
       "0  UN Secretary-General Antonio Guterres urged th...    Nepal   \n",
       "1  RANDEBOO2023718()WEB2023 Autumn Winter \\n\"Nepa...    Nepal   \n",
       "2  Kathmandu, Nepal  UN Secretary-General Antonio...    Nepal   \n",
       "3  At least 14 persons lost their lives and more ...    Nepal   \n",
       "4  Scores of foreign citizens were killed, taken ...    Nepal   \n",
       "\n",
       "                                        full_content  \n",
       "0  UN Secretary-General Antonio Guterres urged th...  \n",
       "1                                                NaN  \n",
       "2                                                NaN  \n",
       "3  At least 14 persons lost their lives and more ...  \n",
       "4                                                NaN  "
      ]
     },
     "execution_count": 4,
     "metadata": {},
     "output_type": "execute_result"
    }
   ],
   "source": [
    "df_raw.head()"
   ]
  },
  {
   "cell_type": "code",
   "execution_count": 5,
   "metadata": {},
   "outputs": [
    {
     "data": {
      "text/html": [
       "<div>\n",
       "<style scoped>\n",
       "    .dataframe tbody tr th:only-of-type {\n",
       "        vertical-align: middle;\n",
       "    }\n",
       "\n",
       "    .dataframe tbody tr th {\n",
       "        vertical-align: top;\n",
       "    }\n",
       "\n",
       "    .dataframe thead th {\n",
       "        text-align: right;\n",
       "    }\n",
       "</style>\n",
       "<table border=\"1\" class=\"dataframe\">\n",
       "  <thead>\n",
       "    <tr style=\"text-align: right;\">\n",
       "      <th></th>\n",
       "      <th>GlobalRank</th>\n",
       "      <th>TldRank</th>\n",
       "      <th>Domain</th>\n",
       "      <th>TLD</th>\n",
       "      <th>RefSubNets</th>\n",
       "      <th>RefIPs</th>\n",
       "      <th>IDN_Domain</th>\n",
       "      <th>IDN_TLD</th>\n",
       "      <th>PrevGlobalRank</th>\n",
       "      <th>PrevTldRank</th>\n",
       "      <th>PrevRefSubNets</th>\n",
       "      <th>PrevRefIPs</th>\n",
       "    </tr>\n",
       "  </thead>\n",
       "  <tbody>\n",
       "    <tr>\n",
       "      <th>0</th>\n",
       "      <td>1</td>\n",
       "      <td>1</td>\n",
       "      <td>google.com</td>\n",
       "      <td>com</td>\n",
       "      <td>471274</td>\n",
       "      <td>2151358</td>\n",
       "      <td>google.com</td>\n",
       "      <td>com</td>\n",
       "      <td>1</td>\n",
       "      <td>1</td>\n",
       "      <td>471248</td>\n",
       "      <td>2147402</td>\n",
       "    </tr>\n",
       "    <tr>\n",
       "      <th>1</th>\n",
       "      <td>2</td>\n",
       "      <td>2</td>\n",
       "      <td>facebook.com</td>\n",
       "      <td>com</td>\n",
       "      <td>465424</td>\n",
       "      <td>2250631</td>\n",
       "      <td>facebook.com</td>\n",
       "      <td>com</td>\n",
       "      <td>2</td>\n",
       "      <td>2</td>\n",
       "      <td>465297</td>\n",
       "      <td>2247135</td>\n",
       "    </tr>\n",
       "    <tr>\n",
       "      <th>2</th>\n",
       "      <td>3</td>\n",
       "      <td>3</td>\n",
       "      <td>youtube.com</td>\n",
       "      <td>com</td>\n",
       "      <td>420579</td>\n",
       "      <td>1852995</td>\n",
       "      <td>youtube.com</td>\n",
       "      <td>com</td>\n",
       "      <td>3</td>\n",
       "      <td>3</td>\n",
       "      <td>420483</td>\n",
       "      <td>1848940</td>\n",
       "    </tr>\n",
       "    <tr>\n",
       "      <th>3</th>\n",
       "      <td>4</td>\n",
       "      <td>4</td>\n",
       "      <td>twitter.com</td>\n",
       "      <td>com</td>\n",
       "      <td>404985</td>\n",
       "      <td>1757127</td>\n",
       "      <td>twitter.com</td>\n",
       "      <td>com</td>\n",
       "      <td>4</td>\n",
       "      <td>4</td>\n",
       "      <td>404998</td>\n",
       "      <td>1753939</td>\n",
       "    </tr>\n",
       "    <tr>\n",
       "      <th>4</th>\n",
       "      <td>5</td>\n",
       "      <td>5</td>\n",
       "      <td>instagram.com</td>\n",
       "      <td>com</td>\n",
       "      <td>364746</td>\n",
       "      <td>1598085</td>\n",
       "      <td>instagram.com</td>\n",
       "      <td>com</td>\n",
       "      <td>5</td>\n",
       "      <td>5</td>\n",
       "      <td>364618</td>\n",
       "      <td>1594892</td>\n",
       "    </tr>\n",
       "  </tbody>\n",
       "</table>\n",
       "</div>"
      ],
      "text/plain": [
       "   GlobalRank  TldRank         Domain  TLD  RefSubNets   RefIPs  \\\n",
       "0           1        1     google.com  com      471274  2151358   \n",
       "1           2        2   facebook.com  com      465424  2250631   \n",
       "2           3        3    youtube.com  com      420579  1852995   \n",
       "3           4        4    twitter.com  com      404985  1757127   \n",
       "4           5        5  instagram.com  com      364746  1598085   \n",
       "\n",
       "      IDN_Domain IDN_TLD  PrevGlobalRank  PrevTldRank  PrevRefSubNets  \\\n",
       "0     google.com     com               1            1          471248   \n",
       "1   facebook.com     com               2            2          465297   \n",
       "2    youtube.com     com               3            3          420483   \n",
       "3    twitter.com     com               4            4          404998   \n",
       "4  instagram.com     com               5            5          364618   \n",
       "\n",
       "   PrevRefIPs  \n",
       "0     2147402  \n",
       "1     2247135  \n",
       "2     1848940  \n",
       "3     1753939  \n",
       "4     1594892  "
      ]
     },
     "execution_count": 5,
     "metadata": {},
     "output_type": "execute_result"
    }
   ],
   "source": [
    "df_traffic.head()"
   ]
  },
  {
   "cell_type": "code",
   "execution_count": 6,
   "metadata": {},
   "outputs": [
    {
     "data": {
      "text/html": [
       "<div>\n",
       "<style scoped>\n",
       "    .dataframe tbody tr th:only-of-type {\n",
       "        vertical-align: middle;\n",
       "    }\n",
       "\n",
       "    .dataframe tbody tr th {\n",
       "        vertical-align: top;\n",
       "    }\n",
       "\n",
       "    .dataframe thead th {\n",
       "        text-align: right;\n",
       "    }\n",
       "</style>\n",
       "<table border=\"1\" class=\"dataframe\">\n",
       "  <thead>\n",
       "    <tr style=\"text-align: right;\">\n",
       "      <th></th>\n",
       "      <th>SourceCommonName</th>\n",
       "      <th>location</th>\n",
       "      <th>Country</th>\n",
       "    </tr>\n",
       "  </thead>\n",
       "  <tbody>\n",
       "    <tr>\n",
       "      <th>0</th>\n",
       "      <td>00221.info</td>\n",
       "      <td>SG</td>\n",
       "      <td>Senegal</td>\n",
       "    </tr>\n",
       "    <tr>\n",
       "      <th>1</th>\n",
       "      <td>01net.com</td>\n",
       "      <td>FR</td>\n",
       "      <td>France</td>\n",
       "    </tr>\n",
       "    <tr>\n",
       "      <th>2</th>\n",
       "      <td>01net.it</td>\n",
       "      <td>IT</td>\n",
       "      <td>Italy</td>\n",
       "    </tr>\n",
       "    <tr>\n",
       "      <th>3</th>\n",
       "      <td>0223.com.ar</td>\n",
       "      <td>AR</td>\n",
       "      <td>Argentina</td>\n",
       "    </tr>\n",
       "    <tr>\n",
       "      <th>4</th>\n",
       "      <td>022china.com</td>\n",
       "      <td>CH</td>\n",
       "      <td>China</td>\n",
       "    </tr>\n",
       "  </tbody>\n",
       "</table>\n",
       "</div>"
      ],
      "text/plain": [
       "  SourceCommonName location    Country\n",
       "0       00221.info       SG    Senegal\n",
       "1        01net.com       FR     France\n",
       "2         01net.it       IT      Italy\n",
       "3      0223.com.ar       AR  Argentina\n",
       "4     022china.com       CH      China"
      ]
     },
     "execution_count": 6,
     "metadata": {},
     "output_type": "execute_result"
    }
   ],
   "source": [
    "df_domains.head()"
   ]
  },
  {
   "cell_type": "markdown",
   "metadata": {},
   "source": [
    "# EDA"
   ]
  },
  {
   "cell_type": "markdown",
   "metadata": {},
   "source": [
    "Top and Bottom Websites that have the largest count of news articles"
   ]
  },
  {
   "cell_type": "code",
   "execution_count": 7,
   "metadata": {},
   "outputs": [
    {
     "data": {
      "text/plain": [
       "0                Forbes\n",
       "1                   CNA\n",
       "2                  Time\n",
       "3              Phys.Org\n",
       "4        Digital Trends\n",
       "5    Al Jazeera English\n",
       "6              BBC News\n",
       "7              Phys.Org\n",
       "8              Deadline\n",
       "9              Euronews\n",
       "Name: source_name, dtype: object"
      ]
     },
     "execution_count": 7,
     "metadata": {},
     "output_type": "execute_result"
    }
   ],
   "source": [
    "df_data['source_name'].head(10)"
   ]
  },
  {
   "cell_type": "code",
   "execution_count": 8,
   "metadata": {},
   "outputs": [
    {
     "name": "stdout",
     "output_type": "stream",
     "text": [
      "Top 10 websites with the largest count of news articles:\n",
      "              Website  Article Count\n",
      "0      ETF Daily News          16746\n",
      "1  The Times of India           7504\n",
      "2       GlobeNewswire           5423\n",
      "3  Globalsecurity.org           3119\n",
      "4              Forbes           2784\n",
      "5            BBC News           2113\n",
      "6            ABC News           2058\n",
      "7    Business Insider           2034\n",
      "8           The Punch           1800\n",
      "9  Al Jazeera English           1664\n"
     ]
    }
   ],
   "source": [
    "# Set pandas display options to show all rows\n",
    "pd.set_option('display.max_rows', None)\n",
    "\n",
    "# Count the number of news articles for each website\n",
    "website_article_counts = df_data['source_name'].value_counts()\n",
    "\n",
    "# Convert the series to a DataFrame for easier manipulation\n",
    "website_article_counts_df = pd.DataFrame(website_article_counts)\n",
    "website_article_counts_df.reset_index(inplace=True)\n",
    "website_article_counts_df.columns = ['Website', 'Article Count']\n",
    "\n",
    "# Sort the websites based on their article counts in descending order to find the top 10\n",
    "top_10_websites = website_article_counts_df.nlargest(10, 'Article Count')\n",
    "\n",
    "# Sort the websites based on their article counts in ascending order to find the bottom 10\n",
    "bottom_10_websites = website_article_counts_df.nsmallest(10, 'Article Count')\n",
    "\n",
    "print(\"Top 10 websites with the largest count of news articles:\")\n",
    "print(top_10_websites)\n"
   ]
  },
  {
   "cell_type": "code",
   "execution_count": 9,
   "metadata": {},
   "outputs": [
    {
     "name": "stdout",
     "output_type": "stream",
     "text": [
      "\n",
      "Bottom 10 websites with the smallest count of news articles:\n",
      "                        Website  Article Count\n",
      "28  AllAfrica - Top Africa News             20\n",
      "27                    The Verge            214\n",
      "26                          CNN            267\n",
      "25                        Wired            270\n",
      "24                     Euronews            286\n",
      "23                    ReadWrite            324\n",
      "22                  Gizmodo.com            388\n",
      "21              Android Central            522\n",
      "20                         Time            600\n",
      "19                          CNA            674\n"
     ]
    }
   ],
   "source": [
    "print(\"\\nBottom 10 websites with the smallest count of news articles:\")\n",
    "print(bottom_10_websites)"
   ]
  },
  {
   "cell_type": "markdown",
   "metadata": {},
   "source": [
    "Top and Bottom 10 Websites with the highest numbers of visitors traffic"
   ]
  },
  {
   "cell_type": "code",
   "execution_count": 10,
   "metadata": {},
   "outputs": [
    {
     "name": "stdout",
     "output_type": "stream",
     "text": [
      "Top 10 Websites with the Highest Visitor Traffic:\n",
      "                 Domain  GlobalRank\n",
      "0            google.com           1\n",
      "1          facebook.com           2\n",
      "2           youtube.com           3\n",
      "3           twitter.com           4\n",
      "4         instagram.com           5\n",
      "5          linkedin.com           6\n",
      "6             apple.com           7\n",
      "7         microsoft.com           8\n",
      "8  googletagmanager.com           9\n",
      "9         wikipedia.org          10\n",
      "\n",
      "Bottom 10 Websites with the Lowest Visitor Traffic:\n",
      "                        Domain  GlobalRank\n",
      "999999  toyotamusicfactory.com     1000000\n",
      "999998          soderhomes.com      999999\n",
      "999997           pinkwater.com      999998\n",
      "999996             mt-lock.com      999997\n",
      "999995              kireie.com      999996\n",
      "999994         keith-baker.com      999995\n",
      "999993          irishcycle.com      999994\n",
      "999992                hmag.com      999993\n",
      "999991    exploring-africa.com      999992\n",
      "999990            eiretrip.com      999991\n"
     ]
    }
   ],
   "source": [
    "# Sorting the DataFrame by GlobalRank in ascending order to get the top 10\n",
    "top_10_websites = df_traffic.sort_values(by='GlobalRank').head(10)\n",
    "\n",
    "# Sorting the DataFrame by GlobalRank in descending order to get the bottom 10\n",
    "bottom_10_websites = df_traffic.sort_values(by='GlobalRank', ascending=False).head(10)\n",
    "\n",
    "print(\"Top 10 Websites with the Highest Visitor Traffic:\")\n",
    "print(top_10_websites[['Domain', 'GlobalRank']])\n",
    "\n",
    "print(\"\\nBottom 10 Websites with the Lowest Visitor Traffic:\")\n",
    "print(bottom_10_websites[['Domain', 'GlobalRank']])"
   ]
  },
  {
   "cell_type": "markdown",
   "metadata": {},
   "source": [
    "Top and Bottom 10 Countries with the highest number of news media organisations (represented by domains in the data)"
   ]
  },
  {
   "cell_type": "code",
   "execution_count": 11,
   "metadata": {},
   "outputs": [
    {
     "name": "stdout",
     "output_type": "stream",
     "text": [
      "Top 10 Countries with the Highest Number of News Media Organizations:\n",
      "    location  SourceCommonName\n",
      "210       US             14111\n",
      "208       UK              1946\n",
      "98        IT              1804\n",
      "70        FR              1039\n",
      "172       RS              1020\n",
      "34        CA               886\n",
      "79        GM               884\n",
      "40        CH               779\n",
      "202       TU               725\n",
      "94        IN               686\n",
      "\n",
      "Bottom 10 Countries with the Lowest Number of News Media Organizations:\n",
      "    location  SourceCommonName\n",
      "0         AA                 1\n",
      "80        GP                 1\n",
      "45        CN                 1\n",
      "93        IM                 1\n",
      "77        GK                 1\n",
      "164       PU                 1\n",
      "157       PC                 1\n",
      "10        AQ                 1\n",
      "179       SH                 1\n",
      "155       OS                 1\n"
     ]
    }
   ],
   "source": [
    "# Grouping the DataFrame by 'location' and counting the number of unique domains for each country\n",
    "country_counts = df_domains.groupby('location')['SourceCommonName'].nunique().reset_index()\n",
    "\n",
    "# Sorting the DataFrame by the counts of unique domains in descending order to get the top 10\n",
    "top_10_countries = country_counts.sort_values(by='SourceCommonName', ascending=False).head(10)\n",
    "\n",
    "# Sorting the DataFrame by the counts of unique domains in ascending order to get the bottom 10\n",
    "bottom_10_countries = country_counts.sort_values(by='SourceCommonName').head(10)\n",
    "\n",
    "print(\"Top 10 Countries with the Highest Number of News Media Organizations:\")\n",
    "print(top_10_countries)\n",
    "\n",
    "print(\"\\nBottom 10 Countries with the Lowest Number of News Media Organizations:\")\n",
    "print(bottom_10_countries)"
   ]
  },
  {
   "cell_type": "markdown",
   "metadata": {},
   "source": [
    "Top and Bottom 10 Countries that have many articles written about them - the content of the news is about that country"
   ]
  },
  {
   "cell_type": "code",
   "execution_count": 12,
   "metadata": {},
   "outputs": [
    {
     "data": {
      "text/plain": [
       "0    Pavyllon London, at Four Seasons Hotel London ...\n",
       "1    Nice moved into provisional first place in the...\n",
       "2    The worlds frogs, salamanders, newts and other...\n",
       "3    Iron-rich sediment colors the red-orange water...\n",
       "4    Everything ends. No, I’m not having an existen...\n",
       "Name: content, dtype: object"
      ]
     },
     "execution_count": 12,
     "metadata": {},
     "output_type": "execute_result"
    }
   ],
   "source": [
    "\n",
    "df_data['content'].head()"
   ]
  },
  {
   "cell_type": "code",
   "execution_count": 13,
   "metadata": {},
   "outputs": [
    {
     "name": "stdout",
     "output_type": "stream",
     "text": [
      "Top 10 countries mentioned in the articles:\n",
      "Israel      1862\n",
      "India       1559\n",
      "Gaza        1125\n",
      "US          1119\n",
      "Ukraine      897\n",
      "U.S.         866\n",
      "China        837\n",
      "Russia       716\n",
      "Dublin       656\n",
      "New York     629\n",
      "Name: count, dtype: int64\n",
      "\n",
      "Bottom 10 countries mentioned in the articles:\n",
      "Masis                     1\n",
      "Zipcar                    1\n",
      "NORRISTOWN                1\n",
      "North Rhine-Westphalia    1\n",
      "Makhachkala               1\n",
      "Littlehampton             1\n",
      "Kingston                  1\n",
      "Melina                    1\n",
      "Ehang                     1\n",
      "Gaza City’s               1\n",
      "Name: count, dtype: int64\n"
     ]
    }
   ],
   "source": [
    "# Load spaCy's English language model\n",
    "nlp = spacy.load(\"en_core_web_sm\")\n",
    "\n",
    "# Function to extract country mentions from text using spaCy\n",
    "def extract_countries(text):\n",
    "    doc = nlp(text)\n",
    "    countries = [ent.text for ent in doc.ents if ent.label_ == \"GPE\"]\n",
    "    return countries\n",
    "\n",
    "# Apply the function to extract country mentions from the content column\n",
    "df_data['country_mentions'] = df_data['content'].apply(extract_countries)\n",
    "\n",
    "# Flatten the list of country mentions\n",
    "country_mentions_flat = [country for sublist in df_data['country_mentions'] for country in sublist]\n",
    "\n",
    "# Count the occurrences of each country mention\n",
    "country_counts = pd.Series(country_mentions_flat).value_counts()\n",
    "\n",
    "# Display the top and bottom 10 countries mentioned in the articles\n",
    "top_10_countries = country_counts.head(10)\n",
    "bottom_10_countries = country_counts.tail(10)\n",
    "\n",
    "print(\"Top 10 countries mentioned in the articles:\")\n",
    "print(top_10_countries)\n",
    "\n",
    "print(\"\\nBottom 10 countries mentioned in the articles:\")\n",
    "print(bottom_10_countries)"
   ]
  },
  {
   "cell_type": "markdown",
   "metadata": {},
   "source": [
    "Top and Bottom Websites that reported (the news content) about Africa, US, China, EU, Russia, Ukraine, Middle East? Note that you will need to group countries together to form the African, EU, and Middle East continents/regions."
   ]
  },
  {
   "cell_type": "code",
   "execution_count": 14,
   "metadata": {},
   "outputs": [
    {
     "data": {
      "text/plain": [
       "0      Senegal\n",
       "1       France\n",
       "2        Italy\n",
       "3    Argentina\n",
       "4        China\n",
       "Name: Country, dtype: object"
      ]
     },
     "execution_count": 14,
     "metadata": {},
     "output_type": "execute_result"
    }
   ],
   "source": [
    "df_domains['Country'].head()"
   ]
  },
  {
   "cell_type": "code",
   "execution_count": 15,
   "metadata": {},
   "outputs": [
    {
     "name": "stdout",
     "output_type": "stream",
     "text": [
      "Top 10 sources reporting news about the regions:\n",
      "source_name\n",
      "Globalsecurity.org              708\n",
      "RT                              545\n",
      "GlobeNewswire                   469\n",
      "Business Insider                467\n",
      "The Times of India              361\n",
      "Al Jazeera English              272\n",
      "BBC News                        230\n",
      "International Business Times    226\n",
      "ABC News                        194\n",
      "Forbes                           98\n",
      "Name: mentioned_countries_count, dtype: int64\n",
      "\n",
      "Bottom 10 sources reporting news about the regions:\n",
      "source_name\n",
      "Phys.Org                       33\n",
      "Boing Boing                    24\n",
      "ReadWrite                      23\n",
      "Wired                          11\n",
      "The Verge                      10\n",
      "Deadline                        8\n",
      "Android Central                 4\n",
      "Gizmodo.com                     4\n",
      "Digital Trends                  2\n",
      "AllAfrica - Top Africa News     0\n",
      "Name: mentioned_countries_count, dtype: int64\n"
     ]
    }
   ],
   "source": [
    "# List of countries, regions, and continents\n",
    "countries_list = [\n",
    "    'us', 'usa', 'united states', 'united states of america', 'america', 'united states of',\n",
    "    'china', 'prc', 'people\\'s republic of china',\n",
    "    'russia', 'russian federation', 'soviet union', 'ussr',\n",
    "    'ukraine', 'ukr', 'ukrainian',\n",
    "    'middle east', 'middle eastern', 'mideast',\n",
    "    'africa', 'african',\n",
    "    'north america', 'north american', 'na',  # For USA\n",
    "    'asia', 'asian', 'cn'  # For China\n",
    "]\n",
    "\n",
    "# Function to extract countries/regions from text\n",
    "def extract_countries(text):\n",
    "    doc = nlp(text)\n",
    "    countries = [ent.text.lower() for ent in doc.ents if ent.label_ == \"GPE\" and ent.text.lower() in countries_list]\n",
    "    return countries\n",
    "\n",
    "# Apply the function to extract countries from content column\n",
    "df_data['mentioned_countries'] = df_data['content'].apply(extract_countries)\n",
    "\n",
    "# Count mentions of each country/region\n",
    "df_data['mentioned_countries_count'] = df_data['mentioned_countries'].apply(len)\n",
    "\n",
    "# Group by source_name and sum the counts of mentions\n",
    "grouped_by_source = df_data.groupby('source_name')['mentioned_countries_count'].sum()\n",
    "\n",
    "# Sort the groups by counts of mentions\n",
    "sorted_sources = grouped_by_source.sort_values(ascending=False)\n",
    "\n",
    "# Extract top and bottom 10 sources\n",
    "top_10_sources = sorted_sources.head(10)\n",
    "bottom_10_sources = sorted_sources.tail(10)\n",
    "\n",
    "print(\"Top 10 sources reporting news about the regions:\")\n",
    "print(top_10_sources)\n",
    "print(\"\\nBottom 10 sources reporting news about the regions:\")\n",
    "print(bottom_10_sources)"
   ]
  },
  {
   "cell_type": "markdown",
   "metadata": {},
   "source": [
    "Top and Bottom 10 Websites with the highest count of positive, neutral, and negative sentiment?"
   ]
  },
  {
   "cell_type": "code",
   "execution_count": 16,
   "metadata": {},
   "outputs": [
    {
     "data": {
      "text/plain": [
       "0    https://www.forbes.com/sites/elizabethbrownfie...\n",
       "1    https://www.channelnewsasia.com/sport/nice-cla...\n",
       "2    https://time.com/6320467/amphibians-most-vulne...\n",
       "3    https://phys.org/news/2023-10-image-rusty-red-...\n",
       "4    https://www.digitaltrends.com/movies/everythin...\n",
       "Name: url, dtype: object"
      ]
     },
     "execution_count": 16,
     "metadata": {},
     "output_type": "execute_result"
    }
   ],
   "source": [
    "df_data['url'].head()"
   ]
  },
  {
   "cell_type": "code",
   "execution_count": 17,
   "metadata": {},
   "outputs": [
    {
     "name": "stdout",
     "output_type": "stream",
     "text": [
      "Top 10 Websites with the highest count of positive sentiment:\n",
      "domain\n",
      "www.etfdailynews.com            992\n",
      "economictimes.indiatimes.com    932\n",
      "www.globenewswire.com           905\n",
      "www.forbes.com                  635\n",
      "www.digitaltrends.com           406\n",
      "www.androidcentral.com          272\n",
      "www.businessinsider.com         237\n",
      "timesofindia.indiatimes.com     213\n",
      "boingboing.net                  170\n",
      "www.marketscreener.com          153\n",
      "Name: Positive, dtype: int64\n",
      "\n",
      "Top 10 Websites with the highest count of neutral sentiment:\n",
      "domain\n",
      "www.etfdailynews.com            15194\n",
      "www.globenewswire.com            4491\n",
      "economictimes.indiatimes.com     3634\n",
      "www.globalsecurity.org           2255\n",
      "www.forbes.com                   1933\n",
      "timesofindia.indiatimes.com      1515\n",
      "punchng.com                      1229\n",
      "abcnews.go.com                   1193\n",
      "www.marketscreener.com           1167\n",
      "www.bbc.co.uk                    1135\n",
      "Name: Neutral, dtype: int64\n",
      "\n",
      "Top 10 Websites with the highest count of negative sentiment:\n",
      "domain\n",
      "www.businessinsider.com         890\n",
      "www.bbc.co.uk                   828\n",
      "www.globalsecurity.org          747\n",
      "economictimes.indiatimes.com    744\n",
      "abcnews.go.com                  726\n",
      "www.aljazeera.com               706\n",
      "www.etfdailynews.com            560\n",
      "timesofindia.indiatimes.com     466\n",
      "punchng.com                     455\n",
      "www.rt.com                      403\n",
      "Name: Negative, dtype: int64\n",
      "\n",
      "Bottom 10 Websites with the lowest count of positive sentiment:\n",
      "domain\n",
      "allafrica.com                        0\n",
      "cnaluxury.channelnewsasia.com        2\n",
      "www.bbc.com                          5\n",
      "cnalifestyle.channelnewsasia.com     6\n",
      "www.euronews.com                    15\n",
      "www.cnn.com                         23\n",
      "www.rt.com                          27\n",
      "www.aljazeera.com                   31\n",
      "time.com                            33\n",
      "www.ibtimes.com                     44\n",
      "Name: Positive, dtype: int64\n",
      "\n",
      "Bottom 10 Websites with the lowest count of neutral sentiment:\n",
      "domain\n",
      "cnaluxury.channelnewsasia.com         2\n",
      "allafrica.com                        12\n",
      "cnalifestyle.channelnewsasia.com     12\n",
      "www.bbc.com                          50\n",
      "www.theverge.com                    118\n",
      "www.wired.com                       138\n",
      "www.cnn.com                         142\n",
      "www.euronews.com                    157\n",
      "www.androidcentral.com              212\n",
      "readwrite.com                       216\n",
      "Name: Neutral, dtype: int64\n",
      "\n",
      "Bottom 10 Websites with the lowest count of negative sentiment:\n",
      "domain\n",
      "cnalifestyle.channelnewsasia.com     0\n",
      "cnaluxury.channelnewsasia.com        0\n",
      "allafrica.com                        8\n",
      "www.bbc.com                         26\n",
      "www.globenewswire.com               27\n",
      "www.theverge.com                    35\n",
      "www.androidcentral.com              38\n",
      "readwrite.com                       38\n",
      "www.marketscreener.com              42\n",
      "www.digitaltrends.com               43\n",
      "Name: Negative, dtype: int64\n"
     ]
    }
   ],
   "source": [
    "# Function to extract domain from URL\n",
    "def extract_domain(url):\n",
    "    try:\n",
    "        parsed_uri = urlparse(url)\n",
    "        if parsed_uri.scheme == '' or parsed_uri.netloc == '':\n",
    "            return None\n",
    "        domain = '{uri.netloc}'.format(uri=parsed_uri)\n",
    "        return domain\n",
    "    except:\n",
    "        return None\n",
    "\n",
    "# Apply the function to extract domain from the 'url' column\n",
    "df_data['domain'] = df_data['url'].apply(extract_domain)\n",
    "\n",
    "# Group the data by website domain and sentiment, then count the occurrences\n",
    "sentiment_counts = df_data.groupby(['domain', 'title_sentiment']).size().unstack(fill_value=0)\n",
    "\n",
    "# Calculate total count of sentiments for each website\n",
    "sentiment_counts['Total'] = sentiment_counts.sum(axis=1)\n",
    "\n",
    "# Sort the websites based on total count of each sentiment\n",
    "top_bottom_website_sentiments = sentiment_counts.sort_values(by='Total', ascending=False)\n",
    "\n",
    "# Extract top and bottom 10 websites for each sentiment\n",
    "top_positive = top_bottom_website_sentiments.nlargest(10, 'Positive')['Positive']\n",
    "top_neutral = top_bottom_website_sentiments.nlargest(10, 'Neutral')['Neutral']\n",
    "top_negative = top_bottom_website_sentiments.nlargest(10, 'Negative')['Negative']\n",
    "\n",
    "bottom_positive = top_bottom_website_sentiments.nsmallest(10, 'Positive')['Positive']\n",
    "bottom_neutral = top_bottom_website_sentiments.nsmallest(10, 'Neutral')['Neutral']\n",
    "bottom_negative = top_bottom_website_sentiments.nsmallest(10, 'Negative')['Negative']\n",
    "\n",
    "print(\"Top 10 Websites with the highest count of positive sentiment:\")\n",
    "print(top_positive)\n",
    "print(\"\\nTop 10 Websites with the highest count of neutral sentiment:\")\n",
    "print(top_neutral)\n",
    "print(\"\\nTop 10 Websites with the highest count of negative sentiment:\")\n",
    "print(top_negative)\n",
    "\n",
    "print(\"\\nBottom 10 Websites with the lowest count of positive sentiment:\")\n",
    "print(bottom_positive)\n",
    "print(\"\\nBottom 10 Websites with the lowest count of neutral sentiment:\")\n",
    "print(bottom_neutral)\n",
    "print(\"\\nBottom 10 Websites with the lowest count of negative sentiment:\")\n",
    "print(bottom_negative)"
   ]
  },
  {
   "cell_type": "markdown",
   "metadata": {},
   "source": [
    "Comparing the impact of using mean/average and median"
   ]
  },
  {
   "cell_type": "code",
   "execution_count": 18,
   "metadata": {},
   "outputs": [
    {
     "name": "stdout",
     "output_type": "stream",
     "text": [
      "Top 10 Websites with the highest count of positive sentiment (using Mean):\n",
      "domain\n",
      "www.androidcentral.com              0.521073\n",
      "www.digitaltrends.com               0.517857\n",
      "cnaluxury.channelnewsasia.com       0.500000\n",
      "cnalifestyle.channelnewsasia.com    0.333333\n",
      "www.theverge.com                    0.285047\n",
      "www.wired.com                       0.248148\n",
      "boingboing.net                      0.238429\n",
      "www.forbes.com                      0.228089\n",
      "readwrite.com                       0.216049\n",
      "economictimes.indiatimes.com        0.175518\n",
      "Name: Positive, dtype: float64\n",
      "\n",
      "Top 10 Websites with the highest count of positive sentiment (using Median):\n",
      "domain\n",
      "www.etfdailynews.com            992\n",
      "economictimes.indiatimes.com    932\n",
      "www.globenewswire.com           905\n",
      "www.forbes.com                  635\n",
      "www.digitaltrends.com           406\n",
      "www.androidcentral.com          272\n",
      "www.businessinsider.com         237\n",
      "timesofindia.indiatimes.com     213\n",
      "boingboing.net                  170\n",
      "www.marketscreener.com          153\n",
      "Name: Positive, dtype: int64\n",
      "\n",
      "\n",
      "Bottom 10 Websites with the lowest count of positive sentiment (using Mean):\n",
      "domain\n",
      "allafrica.com             0.000000\n",
      "www.aljazeera.com         0.018630\n",
      "www.rt.com                0.023936\n",
      "www.bbc.co.uk             0.033957\n",
      "www.ibtimes.com           0.036454\n",
      "www.globalsecurity.org    0.037512\n",
      "www.euronews.com          0.052448\n",
      "time.com                  0.055000\n",
      "deadline.com              0.057940\n",
      "www.etfdailynews.com      0.059238\n",
      "Name: Positive, dtype: float64\n",
      "\n",
      "Bottom 10 Websites with the lowest count of positive sentiment (using Median):\n",
      "domain\n",
      "allafrica.com                        0\n",
      "cnaluxury.channelnewsasia.com        2\n",
      "www.bbc.com                          5\n",
      "cnalifestyle.channelnewsasia.com     6\n",
      "www.euronews.com                    15\n",
      "www.cnn.com                         23\n",
      "www.rt.com                          27\n",
      "www.aljazeera.com                   31\n",
      "time.com                            33\n",
      "www.ibtimes.com                     44\n",
      "Name: Positive, dtype: int64\n",
      "\n",
      "\n",
      "Top 10 Websites with the highest count of neutral sentiment (using Mean):\n",
      "domain\n",
      "www.etfdailynews.com            0.907321\n",
      "www.marketscreener.com          0.856828\n",
      "deadline.com                    0.851931\n",
      "www.globenewswire.com           0.828139\n",
      "www.globalsecurity.org          0.722988\n",
      "www.ibtimes.com                 0.699254\n",
      "www.forbes.com                  0.694325\n",
      "timesofindia.indiatimes.com     0.690520\n",
      "www.channelnewsasia.com         0.687117\n",
      "economictimes.indiatimes.com    0.684369\n",
      "Name: Neutral, dtype: float64\n",
      "\n",
      "Top 10 Websites with the highest count of neutral sentiment (using Median):\n",
      "domain\n",
      "www.etfdailynews.com            15194\n",
      "www.globenewswire.com            4491\n",
      "economictimes.indiatimes.com     3634\n",
      "www.globalsecurity.org           2255\n",
      "www.forbes.com                   1933\n",
      "timesofindia.indiatimes.com      1515\n",
      "punchng.com                      1229\n",
      "abcnews.go.com                   1193\n",
      "www.marketscreener.com           1167\n",
      "www.bbc.co.uk                    1135\n",
      "Name: Neutral, dtype: int64\n",
      "\n",
      "\n",
      "Bottom 10 Websites with the lowest count of neutral sentiment (using Mean):\n",
      "domain\n",
      "www.androidcentral.com           0.406130\n",
      "boingboing.net                   0.410940\n",
      "www.digitaltrends.com            0.427296\n",
      "www.businessinsider.com          0.445919\n",
      "cnaluxury.channelnewsasia.com    0.500000\n",
      "www.wired.com                    0.511111\n",
      "www.cnn.com                      0.531835\n",
      "www.euronews.com                 0.548951\n",
      "www.theverge.com                 0.551402\n",
      "www.aljazeera.com                0.557091\n",
      "Name: Neutral, dtype: float64\n",
      "\n",
      "Bottom 10 Websites with the lowest count of neutral sentiment (using Median):\n",
      "domain\n",
      "cnaluxury.channelnewsasia.com         2\n",
      "allafrica.com                        12\n",
      "cnalifestyle.channelnewsasia.com     12\n",
      "www.bbc.com                          50\n",
      "www.theverge.com                    118\n",
      "www.wired.com                       138\n",
      "www.cnn.com                         142\n",
      "www.euronews.com                    157\n",
      "www.androidcentral.com              212\n",
      "readwrite.com                       216\n",
      "Name: Neutral, dtype: int64\n",
      "\n",
      "\n",
      "Top 10 Websites with the highest count of negative sentiment (using Mean):\n",
      "domain\n",
      "www.businessinsider.com    0.437561\n",
      "www.aljazeera.com          0.424279\n",
      "www.bbc.co.uk              0.407480\n",
      "allafrica.com              0.400000\n",
      "www.euronews.com           0.398601\n",
      "www.cnn.com                0.382022\n",
      "www.rt.com                 0.357270\n",
      "abcnews.go.com             0.352770\n",
      "boingboing.net             0.350631\n",
      "www.bbc.com                0.320988\n",
      "Name: Negative, dtype: float64\n",
      "\n",
      "Top 10 Websites with the highest count of negative sentiment (using Median):\n",
      "domain\n",
      "www.businessinsider.com         890\n",
      "www.bbc.co.uk                   828\n",
      "www.globalsecurity.org          747\n",
      "economictimes.indiatimes.com    744\n",
      "abcnews.go.com                  726\n",
      "www.aljazeera.com               706\n",
      "www.etfdailynews.com            560\n",
      "timesofindia.indiatimes.com     466\n",
      "punchng.com                     455\n",
      "www.rt.com                      403\n",
      "Name: Negative, dtype: int64\n",
      "\n",
      "\n",
      "Bottom 10 Websites with the lowest count of negative sentiment (using Mean):\n",
      "domain\n",
      "cnalifestyle.channelnewsasia.com    0.000000\n",
      "cnaluxury.channelnewsasia.com       0.000000\n",
      "www.globenewswire.com               0.004979\n",
      "www.marketscreener.com              0.030837\n",
      "www.etfdailynews.com                0.033441\n",
      "www.digitaltrends.com               0.054847\n",
      "www.androidcentral.com              0.072797\n",
      "www.forbes.com                      0.077586\n",
      "deadline.com                        0.090129\n",
      "readwrite.com                       0.117284\n",
      "Name: Negative, dtype: float64\n",
      "\n",
      "Bottom 10 Websites with the lowest count of negative sentiment (using Median):\n",
      "domain\n",
      "cnalifestyle.channelnewsasia.com     0\n",
      "cnaluxury.channelnewsasia.com        0\n",
      "allafrica.com                        8\n",
      "www.bbc.com                         26\n",
      "www.globenewswire.com               27\n",
      "www.theverge.com                    35\n",
      "www.androidcentral.com              38\n",
      "readwrite.com                       38\n",
      "www.marketscreener.com              42\n",
      "www.digitaltrends.com               43\n",
      "Name: Negative, dtype: int64\n",
      "\n",
      "\n"
     ]
    }
   ],
   "source": [
    "# Group the data by website domain and sentiment, then calculate mean sentiment counts\n",
    "mean_sentiment_counts = df_data.groupby('domain')['title_sentiment'].value_counts(normalize=True).unstack(fill_value=0)\n",
    "\n",
    "# Calculate mean sentiment counts for each website\n",
    "mean_sentiment_counts['Mean_Total'] = mean_sentiment_counts.sum(axis=1)\n",
    "\n",
    "# Sort the websites based on mean total count of each sentiment\n",
    "mean_top_bottom_websites = mean_sentiment_counts.sort_values(by='Mean_Total', ascending=False)\n",
    "\n",
    "# Repeat the same process for median sentiment counts\n",
    "median_sentiment_counts = df_data.groupby('domain')['title_sentiment'].value_counts().unstack(fill_value=0)\n",
    "median_sentiment_counts['Median_Total'] = median_sentiment_counts.sum(axis=1)\n",
    "median_top_bottom_websites = median_sentiment_counts.sort_values(by='Median_Total', ascending=False)\n",
    "\n",
    "# Compare the top and bottom websites based on mean vs median sentiment counts for each sentiment\n",
    "for sentiment in ['Positive', 'Neutral', 'Negative']:\n",
    "    print(f\"Top 10 Websites with the highest count of {sentiment.lower()} sentiment (using Mean):\")\n",
    "    print(mean_top_bottom_websites[sentiment].nlargest(10))\n",
    "    print(f\"\\nTop 10 Websites with the highest count of {sentiment.lower()} sentiment (using Median):\")\n",
    "    print(median_top_bottom_websites[sentiment].nlargest(10))\n",
    "    print(\"\\n\")\n",
    "\n",
    "    print(f\"Bottom 10 Websites with the lowest count of {sentiment.lower()} sentiment (using Mean):\")\n",
    "    print(mean_top_bottom_websites[sentiment].nsmallest(10))\n",
    "    print(f\"\\nBottom 10 Websites with the lowest count of {sentiment.lower()} sentiment (using Median):\")\n",
    "    print(median_top_bottom_websites[sentiment].nsmallest(10))\n",
    "    print(\"\\n\")\n"
   ]
  },
  {
   "cell_type": "markdown",
   "metadata": {},
   "source": [
    "Check the distribution of Sentiments for a particular domain"
   ]
  },
  {
   "cell_type": "code",
   "execution_count": 19,
   "metadata": {},
   "outputs": [
    {
     "data": {
      "text/plain": [
       "0             www.forbes.com\n",
       "1    www.channelnewsasia.com\n",
       "2                   time.com\n",
       "3                   phys.org\n",
       "4      www.digitaltrends.com\n",
       "Name: domain, dtype: object"
      ]
     },
     "execution_count": 19,
     "metadata": {},
     "output_type": "execute_result"
    }
   ],
   "source": [
    "df_data['domain'].head()"
   ]
  },
  {
   "cell_type": "code",
   "execution_count": 20,
   "metadata": {},
   "outputs": [
    {
     "name": "stdout",
     "output_type": "stream",
     "text": [
      "Sentiment Distribution for Top 10 Domains:\n",
      "title_sentiment               Negative  Neutral  Positive\n",
      "domain                                                   \n",
      "abcnews.go.com                     726     1193       139\n",
      "economictimes.indiatimes.com       744     3634       932\n",
      "punchng.com                        455     1229       116\n",
      "timesofindia.indiatimes.com        466     1515       213\n",
      "www.bbc.co.uk                      828     1135        69\n",
      "www.businessinsider.com            890      907       237\n",
      "www.etfdailynews.com               560    15194       992\n",
      "www.forbes.com                     216     1933       635\n",
      "www.globalsecurity.org             747     2255       117\n",
      "www.globenewswire.com               27     4491       905\n",
      "\n",
      "Global News Sentiment Distribution:\n",
      "title_sentiment\n",
      "Neutral     73.558846\n",
      "Negative    15.650490\n",
      "Positive    10.790664\n",
      "Name: proportion, dtype: float64\n"
     ]
    }
   ],
   "source": [
    "# Group by domain and calculate the number of articles for each domain\n",
    "domain_article_counts = df_data['domain'].value_counts()\n",
    "\n",
    "# Select the top 10 domains by number of articles\n",
    "top_10_domains = domain_article_counts.nlargest(10).index\n",
    "\n",
    "# Filter df_data to include only articles from the top 10 domains\n",
    "df_top_10_domains = df_data[df_data['domain'].isin(top_10_domains)]\n",
    "\n",
    "# Calculate sentiment distribution for each domain\n",
    "domain_sentiment_distribution = df_top_10_domains.groupby(['domain', 'title_sentiment']).size().unstack(fill_value=0)\n",
    "\n",
    "# Calculate global news sentiment distribution\n",
    "global_sentiment_distribution = df_data['title_sentiment'].value_counts(normalize=True) * 100\n",
    "\n",
    "# Print the sentiment distributions for each domain and the global news sentiment distribution\n",
    "print(\"Sentiment Distribution for Top 10 Domains:\")\n",
    "print(domain_sentiment_distribution)\n",
    "\n",
    "print(\"\\nGlobal News Sentiment Distribution:\")\n",
    "print(global_sentiment_distribution)"
   ]
  },
  {
   "cell_type": "markdown",
   "metadata": {},
   "source": [
    "How similar are the raw message lengths across sites"
   ]
  },
  {
   "cell_type": "code",
   "execution_count": 21,
   "metadata": {},
   "outputs": [
    {
     "data": {
      "text/plain": [
       "<Figure size 1000x600 with 0 Axes>"
      ]
     },
     "metadata": {},
     "output_type": "display_data"
    },
    {
     "data": {
      "image/png": "[encoded data removed]",
      "text/plain": [
       "<Figure size 640x480 with 1 Axes>"
      ]
     },
     "metadata": {},
     "output_type": "display_data"
    },
    {
     "data": {
      "image/png": "[encoded data removed]",
      "text/plain": [
       "<Figure size 1000x600 with 1 Axes>"
      ]
     },
     "metadata": {},
     "output_type": "display_data"
    }
   ],
   "source": [
    "# Extract relevant data and create a copy to avoid the warning\n",
    "relevant_data = df_data[['source_name', 'content']].copy()\n",
    "\n",
    "# Calculate raw message lengths using .loc to set values explicitly\n",
    "relevant_data.loc[:, 'message_length'] = relevant_data['content'].apply(lambda x: len(str(x)))\n",
    "\n",
    "# Group by Site and Calculate Descriptive Statistics\n",
    "stats_by_site = relevant_data.groupby('source_name')['message_length'].describe()\n",
    "\n",
    "# 4. Visualize the Distribution\n",
    "plt.figure(figsize=(10, 6))\n",
    "boxplot = relevant_data.boxplot(column='message_length', by='source_name', patch_artist=True)\n",
    "plt.title('Distribution of Raw Message Lengths Across Sites')\n",
    "plt.suptitle('')\n",
    "plt.xlabel('Site')\n",
    "plt.ylabel('Message Length')\n",
    "plt.xticks(rotation=45)\n",
    "plt.show()\n",
    "\n",
    "# Alternatively, you can also plot histograms for better understanding of the distribution\n",
    "plt.figure(figsize=(10, 6))\n",
    "for site, data in relevant_data.groupby('source_name'):\n",
    "    plt.hist(data['message_length'], bins=50, alpha=0.5, label=site, density=True, range=(0, 2000))  \n",
    "plt.title('Distribution of Raw Message Lengths Across Sites')\n",
    "plt.xlabel('Message Length')\n",
    "plt.ylabel('Density')\n",
    "plt.legend()\n",
    "plt.show()"
   ]
  },
  {
   "cell_type": "markdown",
   "metadata": {},
   "source": [
    "How similar are the number of words in the title across sites"
   ]
  },
  {
   "cell_type": "code",
   "execution_count": 22,
   "metadata": {},
   "outputs": [
    {
     "data": {
      "image/png": "[encoded data removed]",
      "text/plain": [
       "<Figure size 1000x600 with 1 Axes>"
      ]
     },
     "metadata": {},
     "output_type": "display_data"
    }
   ],
   "source": [
    "# Extract relevant data and create a copy to avoid the warning\n",
    "relevant_data = df_data[['source_name', 'title']].copy()\n",
    "\n",
    "# Calculate the number of words in the title\n",
    "relevant_data['title_word_count'] = relevant_data['title'].apply(lambda x: len(str(x).split()))\n",
    "\n",
    "# Plot histograms with adjusted scale (increased number of bins and adjusted range)\n",
    "plt.figure(figsize=(10, 6))\n",
    "for site, data in relevant_data.groupby('source_name'):\n",
    "    plt.hist(data['title_word_count'], bins=20, alpha=0.5, label=site, density=True)  \n",
    "plt.title('Distribution of Title Word Counts Across Sites')\n",
    "plt.xlabel('Number of Words in Title')\n",
    "plt.ylabel('Density')\n",
    "plt.legend()\n",
    "plt.show()"
   ]
  },
  {
   "cell_type": "markdown",
   "metadata": {},
   "source": [
    "The impact of frequent news reporting and sentiment to the website’s global ranking"
   ]
  },
  {
   "cell_type": "code",
   "execution_count": 23,
   "metadata": {},
   "outputs": [
    {
     "data": {
      "text/html": [
       "<div>\n",
       "<style scoped>\n",
       "    .dataframe tbody tr th:only-of-type {\n",
       "        vertical-align: middle;\n",
       "    }\n",
       "\n",
       "    .dataframe tbody tr th {\n",
       "        vertical-align: top;\n",
       "    }\n",
       "\n",
       "    .dataframe thead th {\n",
       "        text-align: right;\n",
       "    }\n",
       "</style>\n",
       "<table border=\"1\" class=\"dataframe\">\n",
       "  <thead>\n",
       "    <tr style=\"text-align: right;\">\n",
       "      <th></th>\n",
       "      <th>GlobalRank</th>\n",
       "      <th>TldRank</th>\n",
       "      <th>Domain</th>\n",
       "      <th>TLD</th>\n",
       "      <th>RefSubNets</th>\n",
       "      <th>RefIPs</th>\n",
       "      <th>IDN_Domain</th>\n",
       "      <th>IDN_TLD</th>\n",
       "      <th>PrevGlobalRank</th>\n",
       "      <th>PrevTldRank</th>\n",
       "      <th>PrevRefSubNets</th>\n",
       "      <th>PrevRefIPs</th>\n",
       "    </tr>\n",
       "  </thead>\n",
       "  <tbody>\n",
       "    <tr>\n",
       "      <th>0</th>\n",
       "      <td>1</td>\n",
       "      <td>1</td>\n",
       "      <td>google.com</td>\n",
       "      <td>com</td>\n",
       "      <td>471274</td>\n",
       "      <td>2151358</td>\n",
       "      <td>google.com</td>\n",
       "      <td>com</td>\n",
       "      <td>1</td>\n",
       "      <td>1</td>\n",
       "      <td>471248</td>\n",
       "      <td>2147402</td>\n",
       "    </tr>\n",
       "    <tr>\n",
       "      <th>1</th>\n",
       "      <td>2</td>\n",
       "      <td>2</td>\n",
       "      <td>facebook.com</td>\n",
       "      <td>com</td>\n",
       "      <td>465424</td>\n",
       "      <td>2250631</td>\n",
       "      <td>facebook.com</td>\n",
       "      <td>com</td>\n",
       "      <td>2</td>\n",
       "      <td>2</td>\n",
       "      <td>465297</td>\n",
       "      <td>2247135</td>\n",
       "    </tr>\n",
       "    <tr>\n",
       "      <th>2</th>\n",
       "      <td>3</td>\n",
       "      <td>3</td>\n",
       "      <td>youtube.com</td>\n",
       "      <td>com</td>\n",
       "      <td>420579</td>\n",
       "      <td>1852995</td>\n",
       "      <td>youtube.com</td>\n",
       "      <td>com</td>\n",
       "      <td>3</td>\n",
       "      <td>3</td>\n",
       "      <td>420483</td>\n",
       "      <td>1848940</td>\n",
       "    </tr>\n",
       "    <tr>\n",
       "      <th>3</th>\n",
       "      <td>4</td>\n",
       "      <td>4</td>\n",
       "      <td>twitter.com</td>\n",
       "      <td>com</td>\n",
       "      <td>404985</td>\n",
       "      <td>1757127</td>\n",
       "      <td>twitter.com</td>\n",
       "      <td>com</td>\n",
       "      <td>4</td>\n",
       "      <td>4</td>\n",
       "      <td>404998</td>\n",
       "      <td>1753939</td>\n",
       "    </tr>\n",
       "    <tr>\n",
       "      <th>4</th>\n",
       "      <td>5</td>\n",
       "      <td>5</td>\n",
       "      <td>instagram.com</td>\n",
       "      <td>com</td>\n",
       "      <td>364746</td>\n",
       "      <td>1598085</td>\n",
       "      <td>instagram.com</td>\n",
       "      <td>com</td>\n",
       "      <td>5</td>\n",
       "      <td>5</td>\n",
       "      <td>364618</td>\n",
       "      <td>1594892</td>\n",
       "    </tr>\n",
       "  </tbody>\n",
       "</table>\n",
       "</div>"
      ],
      "text/plain": [
       "   GlobalRank  TldRank         Domain  TLD  RefSubNets   RefIPs  \\\n",
       "0           1        1     google.com  com      471274  2151358   \n",
       "1           2        2   facebook.com  com      465424  2250631   \n",
       "2           3        3    youtube.com  com      420579  1852995   \n",
       "3           4        4    twitter.com  com      404985  1757127   \n",
       "4           5        5  instagram.com  com      364746  1598085   \n",
       "\n",
       "      IDN_Domain IDN_TLD  PrevGlobalRank  PrevTldRank  PrevRefSubNets  \\\n",
       "0     google.com     com               1            1          471248   \n",
       "1   facebook.com     com               2            2          465297   \n",
       "2    youtube.com     com               3            3          420483   \n",
       "3    twitter.com     com               4            4          404998   \n",
       "4  instagram.com     com               5            5          364618   \n",
       "\n",
       "   PrevRefIPs  \n",
       "0     2147402  \n",
       "1     2247135  \n",
       "2     1848940  \n",
       "3     1753939  \n",
       "4     1594892  "
      ]
     },
     "execution_count": 23,
     "metadata": {},
     "output_type": "execute_result"
    }
   ],
   "source": [
    "df_traffic.head()"
   ]
  },
  {
   "cell_type": "code",
   "execution_count": 24,
   "metadata": {},
   "outputs": [
    {
     "data": {
      "image/png": "[encoded data removed]",
      "text/plain": [
       "<Figure size 1000x600 with 2 Axes>"
      ]
     },
     "metadata": {},
     "output_type": "display_data"
    }
   ],
   "source": [
    "# Calculate total number of reports by each website\n",
    "report_counts = df_data['source_name'].value_counts().reset_index()\n",
    "report_counts.columns = ['source_name', 'report_count']\n",
    "\n",
    "# Convert sentiment strings to numerical values\n",
    "sentiment_mapping = {'Positive': 1, 'Negative': -1, 'Neutral': 0}\n",
    "df_data['title_sentiment_numeric'] = df_data['title_sentiment'].map(sentiment_mapping)\n",
    "\n",
    "# Aggregate average sentiment for each website\n",
    "avg_sentiment = df_data.groupby('source_name')['title_sentiment_numeric'].mean().reset_index()\n",
    "avg_sentiment.columns = ['source_name', 'avg_sentiment']\n",
    "\n",
    "# Aggregate global ranking for each website\n",
    "global_ranking = df_traffic.groupby('Domain')['GlobalRank'].mean().reset_index()\n",
    "global_ranking.columns = ['source_name', 'GlobalRank']\n",
    "\n",
    "# Merge aggregated data\n",
    "merged_data = pd.merge(report_counts, avg_sentiment, on='source_name', how='outer')\n",
    "merged_data = pd.merge(merged_data, global_ranking, on='source_name', how='outer')\n",
    "\n",
    "plt.figure(figsize=(10, 6))\n",
    "plt.scatter(merged_data['report_count'], merged_data['GlobalRank'], c=merged_data['avg_sentiment'], cmap='coolwarm')\n",
    "plt.colorbar(label='Average Sentiment')\n",
    "plt.xlabel('Total Number of Reports')\n",
    "plt.ylabel('Global Ranking')\n",
    "plt.title('Impact of News Reporting Frequency and Sentiment on Website Global Ranking')\n",
    "plt.grid(True)\n",
    "plt.show()"
   ]
  },
  {
   "cell_type": "markdown",
   "metadata": {},
   "source": [
    "# Data Preparation"
   ]
  },
  {
   "cell_type": "markdown",
   "metadata": {},
   "source": [
    "## Data.csv"
   ]
  },
  {
   "cell_type": "code",
   "execution_count": 25,
   "metadata": {},
   "outputs": [
    {
     "data": {
      "text/plain": [
       "(58356, 18)"
      ]
     },
     "execution_count": 25,
     "metadata": {},
     "output_type": "execute_result"
    }
   ],
   "source": [
    "df_data.shape"
   ]
  },
  {
   "cell_type": "code",
   "execution_count": 26,
   "metadata": {},
   "outputs": [
    {
     "data": {
      "text/plain": [
       "article_id                       0\n",
       "source_id                    40585\n",
       "source_name                      0\n",
       "author                        2163\n",
       "title                            0\n",
       "description                     10\n",
       "url                              0\n",
       "url_to_image                  3451\n",
       "published_at                     0\n",
       "content                          0\n",
       "category                        21\n",
       "article                          0\n",
       "title_sentiment                  0\n",
       "country_mentions                 0\n",
       "mentioned_countries              0\n",
       "mentioned_countries_count        0\n",
       "domain                           0\n",
       "title_sentiment_numeric          0\n",
       "dtype: int64"
      ]
     },
     "execution_count": 26,
     "metadata": {},
     "output_type": "execute_result"
    }
   ],
   "source": [
    "df_data.isnull().sum()"
   ]
  },
  {
   "cell_type": "markdown",
   "metadata": {},
   "source": [
    "### Handling Missing Values"
   ]
  },
  {
   "cell_type": "code",
   "execution_count": 27,
   "metadata": {},
   "outputs": [
    {
     "name": "stdout",
     "output_type": "stream",
     "text": [
      "article_id                    0.000000\n",
      "source_id                    69.547262\n",
      "source_name                   0.000000\n",
      "author                        3.706560\n",
      "title                         0.000000\n",
      "description                   0.017136\n",
      "url                           0.000000\n",
      "url_to_image                  5.913702\n",
      "published_at                  0.000000\n",
      "content                       0.000000\n",
      "category                      0.035986\n",
      "article                       0.000000\n",
      "title_sentiment               0.000000\n",
      "country_mentions              0.000000\n",
      "mentioned_countries           0.000000\n",
      "mentioned_countries_count     0.000000\n",
      "domain                        0.000000\n",
      "title_sentiment_numeric       0.000000\n",
      "dtype: float64\n"
     ]
    }
   ],
   "source": [
    "# Calculating the percentage of missing values\n",
    "missing_percentage = (df_data.isnull().sum() / len(df_data)) * 100\n",
    "print(missing_percentage)"
   ]
  },
  {
   "cell_type": "code",
   "execution_count": 28,
   "metadata": {},
   "outputs": [
    {
     "name": "stderr",
     "output_type": "stream",
     "text": [
      "/tmp/ipykernel_6049/4049499887.py:5: FutureWarning: A value is trying to be set on a copy of a DataFrame or Series through chained assignment using an inplace method.\n",
      "The behavior will change in pandas 3.0. This inplace method will never work because the intermediate object on which we are setting values always behaves as a copy.\n",
      "\n",
      "For example, when doing 'df[col].method(value, inplace=True)', try using 'df.method({col: value}, inplace=True)' or df[col] = df[col].method(value) instead, to perform the operation inplace on the original object.\n",
      "\n",
      "\n",
      "  df_data['author'].fillna('Unknown', inplace=True)\n"
     ]
    }
   ],
   "source": [
    "# Drop the source_id column as it contain 69% missing values\n",
    "df_data = df_data.drop(columns=['source_id'])\n",
    "\n",
    "# Replace missing values in text columns with 'Unknown'\n",
    "df_data['author'].fillna('Unknown', inplace=True)\n",
    "df_data['description'] = df_data['description'].fillna('Not Available')\n",
    "df_data['url_to_image'] = df_data['url_to_image'].fillna('Not Available')\n",
    "df_data['category'] = df_data['category'].fillna('Unknown')"
   ]
  },
  {
   "cell_type": "markdown",
   "metadata": {},
   "source": [
    "## Domain_location.csv"
   ]
  },
  {
   "cell_type": "code",
   "execution_count": 29,
   "metadata": {},
   "outputs": [
    {
     "data": {
      "text/plain": [
       "SourceCommonName    0\n",
       "location            0\n",
       "Country             1\n",
       "dtype: int64"
      ]
     },
     "execution_count": 29,
     "metadata": {},
     "output_type": "execute_result"
    }
   ],
   "source": [
    "df_domains.isnull().sum()"
   ]
  },
  {
   "cell_type": "markdown",
   "metadata": {},
   "source": [
    "### Handling Missing Value"
   ]
  },
  {
   "cell_type": "code",
   "execution_count": 30,
   "metadata": {},
   "outputs": [
    {
     "name": "stderr",
     "output_type": "stream",
     "text": [
      "/tmp/ipykernel_6049/2988200844.py:3: FutureWarning: A value is trying to be set on a copy of a DataFrame or Series through chained assignment using an inplace method.\n",
      "The behavior will change in pandas 3.0. This inplace method will never work because the intermediate object on which we are setting values always behaves as a copy.\n",
      "\n",
      "For example, when doing 'df[col].method(value, inplace=True)', try using 'df.method({col: value}, inplace=True)' or df[col] = df[col].method(value) instead, to perform the operation inplace on the original object.\n",
      "\n",
      "\n",
      "  df_domains['Country'].fillna(mode_country, inplace=True)\n"
     ]
    }
   ],
   "source": [
    "# Mode imputation for the 'Country' column\n",
    "mode_country = df_domains['Country'].mode()[0]\n",
    "df_domains['Country'].fillna(mode_country, inplace=True)"
   ]
  },
  {
   "cell_type": "markdown",
   "metadata": {},
   "source": [
    "## Traffic_data.csv"
   ]
  },
  {
   "cell_type": "code",
   "execution_count": 31,
   "metadata": {},
   "outputs": [
    {
     "data": {
      "text/plain": [
       "GlobalRank        0\n",
       "TldRank           0\n",
       "Domain            0\n",
       "TLD               0\n",
       "RefSubNets        0\n",
       "RefIPs            0\n",
       "IDN_Domain        0\n",
       "IDN_TLD           0\n",
       "PrevGlobalRank    0\n",
       "PrevTldRank       0\n",
       "PrevRefSubNets    0\n",
       "PrevRefIPs        0\n",
       "dtype: int64"
      ]
     },
     "execution_count": 31,
     "metadata": {},
     "output_type": "execute_result"
    }
   ],
   "source": [
    "df_traffic.isnull().sum()"
   ]
  },
  {
   "cell_type": "code",
   "execution_count": 32,
   "metadata": {},
   "outputs": [
    {
     "data": {
      "text/plain": [
       "0      Senegal\n",
       "1       France\n",
       "2        Italy\n",
       "3    Argentina\n",
       "4        China\n",
       "Name: Country, dtype: object"
      ]
     },
     "execution_count": 32,
     "metadata": {},
     "output_type": "execute_result"
    }
   ],
   "source": [
    "df_domains['Country'].head()"
   ]
  },
  {
   "cell_type": "markdown",
   "metadata": {},
   "source": [
    "# Text Preprocessing"
   ]
  },
  {
   "cell_type": "markdown",
   "metadata": {},
   "source": [
    "Keyword extraction/modelling using TF-IDF"
   ]
  },
  {
   "cell_type": "code",
   "execution_count": 33,
   "metadata": {},
   "outputs": [
    {
     "name": "stderr",
     "output_type": "stream",
     "text": [
      "[nltk_data] Downloading package wordnet to /home/moraa/nltk_data...\n",
      "[nltk_data]   Package wordnet is already up-to-date!\n"
     ]
    },
    {
     "name": "stdout",
     "output_type": "stream",
     "text": [
      "Top Keywords: char         3368.444669\n",
      "report       2949.980128\n",
      "free         2207.032488\n",
      "share        1776.154538\n",
      "quarter      1647.558724\n",
      "company      1642.279215\n",
      "according    1610.643146\n",
      "2023         1570.683964\n",
      "inc          1549.994285\n",
      "recent       1498.832874\n",
      "dtype: float64\n"
     ]
    }
   ],
   "source": [
    "nltk.download('wordnet')\n",
    "\n",
    "# Function to preprocess text\n",
    "def preprocess_text(text):\n",
    "    # Remove extra spaces\n",
    "    text = re.sub(r'\\s+', ' ', text)\n",
    "    # Remove URLs\n",
    "    text = re.sub(r'http\\S+', '', text)\n",
    "    # Remove emojis\n",
    "    text = text.encode('ascii', 'ignore').decode('ascii')\n",
    "    # Remove emoticons\n",
    "    text = re.sub(r':\\)|;\\)|:-\\)|:-\\(|:-D|:-\\(|:-\\)|:D|:P|:S|:\\||:O|:\\(|:\\-D|:\\-S', '', text)\n",
    "    # Convert text to lowercase\n",
    "    text = text.lower()\n",
    "    # Remove punctuation\n",
    "    text = text.translate(str.maketrans('', '', string.punctuation))\n",
    "    # Tokenize text\n",
    "    tokens = word_tokenize(text)\n",
    "    # Remove stopwords\n",
    "    stop_words = set(stopwords.words('english'))\n",
    "    tokens = [word for word in tokens if word not in stop_words]\n",
    "    # Lemmatize tokens\n",
    "    lemmatizer = WordNetLemmatizer()\n",
    "    tokens = [lemmatizer.lemmatize(word) for word in tokens]\n",
    "    # Join tokens back into a single string\n",
    "    preprocessed_text = ' '.join(tokens)\n",
    "    return preprocessed_text\n",
    "\n",
    "# Function to perform TF-IDF vectorization and keyword extraction\n",
    "def extract_keywords(df_data):\n",
    "    # Apply text preprocessing to 'content' column\n",
    "    df_data['clean_content'] = df_data['content'].apply(preprocess_text)\n",
    "    \n",
    "    # Perform TF-IDF vectorization with even higher max_features\n",
    "    tfidf_vectorizer = TfidfVectorizer(max_features=20000)\n",
    "    tfidf_matrix = tfidf_vectorizer.fit_transform(df_data['clean_content'])\n",
    "\n",
    "    # Get feature names (words)\n",
    "    feature_names = tfidf_vectorizer.get_feature_names_out()\n",
    "    \n",
    "    print(\"Feature Names:\")\n",
    "    print(feature_names)\n",
    "\n",
    "    # Create a DataFrame from TF-IDF matrix\n",
    "    tfidf_df = pd.DataFrame(tfidf_matrix.toarray(), columns=feature_names)\n",
    "\n",
    "    # Identify top keywords\n",
    "    top_keywords = tfidf_df.sum().sort_values(ascending=False).head(10)\n",
    "    return top_keywords\n",
    "\n",
    "\n",
    "# Sample data preprocessing and keyword extraction\n",
    "top_keywords = extract_keywords(df_data)\n",
    "\n",
    "# Display top keywords\n",
    "print(\"Top Keywords:\", top_keywords)"
   ]
  },
  {
   "cell_type": "markdown",
   "metadata": {},
   "source": [
    "Similarity Search"
   ]
  },
  {
   "cell_type": "code",
   "execution_count": 34,
   "metadata": {},
   "outputs": [],
   "source": [
    "# Convert values in the 'title' column to strings only if they are convertible\n",
    "df_data['title'] = df_data['title'].apply(lambda x: str(x) if isinstance(x, str) else x)\n"
   ]
  },
  {
   "cell_type": "code",
   "execution_count": 35,
   "metadata": {},
   "outputs": [
    {
     "name": "stdout",
     "output_type": "stream",
     "text": [
      "title\n",
      "<class 'str'>    58356\n",
      "Name: count, dtype: int64\n"
     ]
    }
   ],
   "source": [
    "print(df_data['title'].apply(type).value_counts())"
   ]
  },
  {
   "cell_type": "code",
   "execution_count": 36,
   "metadata": {},
   "outputs": [
    {
     "name": "stdout",
     "output_type": "stream",
     "text": [
      "object\n"
     ]
    }
   ],
   "source": [
    "# Check the data type of the 'title' column\n",
    "print(df_data['title'].dtype)"
   ]
  },
  {
   "cell_type": "code",
   "execution_count": 37,
   "metadata": {},
   "outputs": [
    {
     "name": "stdout",
     "output_type": "stream",
     "text": [
      "Overall similarity between keywords in headline/title and news body across sites (subset): 0.007113328391785348\n"
     ]
    }
   ],
   "source": [
    "# Function to calculate cosine similarity between headline/title and news body for a subset of articles\n",
    "def calculate_similarity_subset(df_data, sample_size=1000):\n",
    "    # Sample subset of articles\n",
    "    df_sample = df_data.sample(n=sample_size, random_state=42)\n",
    "    \n",
    "    # Apply text preprocessing to 'title' and 'content' columns\n",
    "    df_sample['clean_title'] = df_sample['title'].apply(preprocess_text)\n",
    "    df_sample['clean_content'] = df_sample['content'].apply(preprocess_text)\n",
    "    \n",
    "    # Perform TF-IDF vectorization for title\n",
    "    tfidf_vectorizer_title = TfidfVectorizer(max_features=1000)\n",
    "    tfidf_matrix_title = tfidf_vectorizer_title.fit_transform(df_sample['clean_title'])\n",
    "    \n",
    "    # Perform TF-IDF vectorization for content\n",
    "    tfidf_vectorizer_content = TfidfVectorizer(max_features=1000)\n",
    "    tfidf_matrix_content = tfidf_vectorizer_content.fit_transform(df_sample['clean_content'])\n",
    "    \n",
    "    # Calculate cosine similarity between title and content vectors\n",
    "    similarity_scores = cosine_similarity(tfidf_matrix_title, tfidf_matrix_content)\n",
    "    \n",
    "    return similarity_scores\n",
    "\n",
    "# Calculate similarity scores for a subset of articles\n",
    "similarity_scores_subset = calculate_similarity_subset(df_data)\n",
    "\n",
    "# Aggregate similarity scores across all articles\n",
    "overall_similarity_subset = similarity_scores_subset.mean()\n",
    "\n",
    "print(\"Overall similarity between keywords in headline/title and news body across sites (subset):\", overall_similarity_subset)\n",
    " "
   ]
  },
  {
   "cell_type": "code",
   "execution_count": 39,
   "metadata": {},
   "outputs": [
    {
     "name": "stdout",
     "output_type": "stream",
     "text": [
      "Topic 1:\n",
      "char october 2023 november president minister gaza israel said state\n",
      "\n",
      "Topic 2:\n",
      "char new year world india said image getty state time\n",
      "\n",
      "Topic 3:\n",
      "report char quarter according free recent share company filing second\n",
      "\n",
      "Topic 4:\n",
      "2023 char nov globe newswire market global company billion new\n",
      "\n",
      "Topic 5:\n",
      "report free char share stock traded rating price research company\n",
      "\n"
     ]
    }
   ],
   "source": [
    "# Function to perform topic modeling using LDA\n",
    "def perform_topic_modeling(df_data, num_topics=5):\n",
    "    # Apply text preprocessing to 'content' column\n",
    "    df_data['clean_content'] = df_data['content'].apply(preprocess_text)\n",
    "    \n",
    "    # Create document-term matrix using CountVectorizer\n",
    "    vectorizer = CountVectorizer(max_features=1000, stop_words='english')\n",
    "    dtm = vectorizer.fit_transform(df_data['clean_content'])\n",
    "    \n",
    "    # Fit LDA model\n",
    "    lda_model = LatentDirichletAllocation(n_components=num_topics, random_state=42)\n",
    "    lda_model.fit(dtm)\n",
    "    \n",
    "    return lda_model, vectorizer\n",
    "\n",
    "# Perform topic modeling\n",
    "num_topics = 5  # You can adjust the number of topics as needed\n",
    "lda_model, vectorizer = perform_topic_modeling(df_data, num_topics)\n",
    "\n",
    "# Function to display top words for each topic\n",
    "def display_topics(model, vectorizer, num_top_words=10):\n",
    "    feature_names = vectorizer.get_feature_names_out()\n",
    "    for topic_idx, topic in enumerate(model.components_):\n",
    "        print(f\"Topic {topic_idx + 1}:\")\n",
    "        print(\" \".join([feature_names[i] for i in topic.argsort()[:-num_top_words - 1:-1]]))\n",
    "        print()\n",
    "\n",
    "# Display top words for each topic\n",
    "display_topics(lda_model, vectorizer)"
   ]
  },
  {
   "cell_type": "code",
   "execution_count": null,
   "metadata": {},
   "outputs": [],
   "source": []
  }
 ],
 "metadata": {
  "kernelspec": {
   "display_name": "venv",
   "language": "python",
   "name": "python3"
  },
  "language_info": {
   "codemirror_mode": {
    "name": "ipython",
    "version": 3
   },
   "file_extension": ".py",
   "mimetype": "text/x-python",
   "name": "python",
   "nbconvert_exporter": "python",
   "pygments_lexer": "ipython3",
   "version": "3.10.12"
  }
 },
 "nbformat": 4,
 "nbformat_minor": 2
}
