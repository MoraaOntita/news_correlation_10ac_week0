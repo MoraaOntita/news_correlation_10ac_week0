{
 "cells": [
  {
   "cell_type": "markdown",
   "metadata": {},
   "source": [
    "Creating PostgreSQL Tables with Python "
   ]
  },
  {
   "cell_type": "code",
   "execution_count": 1,
   "metadata": {},
   "outputs": [],
   "source": [
    "import psycopg2\n",
    "from dotenv import load_dotenv\n",
    "import os"
   ]
  },
  {
   "cell_type": "markdown",
   "metadata": {},
   "source": [
    "Connect to the PostgreSQL database"
   ]
  },
  {
   "cell_type": "code",
   "execution_count": 2,
   "metadata": {},
   "outputs": [],
   "source": [
    "# Load environment variables from .env file\n",
    "load_dotenv()\n",
    "\n",
    "# Connect to the PostgreSQL database using environment variables\n",
    "conn = psycopg2.connect(\n",
    "    dbname=os.getenv('DB_NAME'),\n",
    "    user=os.getenv('DB_USER'),\n",
    "    password=os.getenv('DB_PASSWORD'),\n",
    "    host=os.getenv('DB_HOST'),\n",
    "    port=os.getenv('DB_PORT')\n",
    ")"
   ]
  },
  {
   "cell_type": "code",
   "execution_count": null,
   "metadata": {},
   "outputs": [],
   "source": [
    "# Create a new database\n",
    "conn.autocommit = True\n",
    "cursor = conn.cursor()\n",
    "cursor.execute(\"CREATE DATABASE week0_db\")\n",
    "conn.close()"
   ]
  },
  {
   "cell_type": "code",
   "execution_count": 4,
   "metadata": {},
   "outputs": [],
   "source": [
    "# Connect to the newly created database\n",
    "conn = psycopg2.connect(\n",
    "    dbname=os.getenv('WEEK0_DB_NAME'),\n",
    "    user=os.getenv('DB_USER'),\n",
    "    password=os.getenv('DB_PASSWORD'),\n",
    "    host=os.getenv('DB_HOST'),\n",
    "    port=os.getenv('DB_PORT')\n",
    ")"
   ]
  },
  {
   "cell_type": "code",
   "execution_count": 5,
   "metadata": {},
   "outputs": [],
   "source": [
    "# Create a cursor Object\n",
    "cursor = conn.cursor()"
   ]
  },
  {
   "cell_type": "markdown",
   "metadata": {},
   "source": [
    "Creating Tables"
   ]
  },
  {
   "cell_type": "code",
   "execution_count": 6,
   "metadata": {},
   "outputs": [],
   "source": [
    "# Create Articles table\n",
    "cursor.execute('''CREATE TABLE Articles (\n",
    "                    article_id SERIAL PRIMARY KEY,\n",
    "                    source_name TEXT,\n",
    "                    author TEXT,\n",
    "                    title TEXT,\n",
    "                    description TEXT,\n",
    "                    url TEXT,\n",
    "                    url_to_image TEXT,\n",
    "                    published_at TIMESTAMP,\n",
    "                    content TEXT,\n",
    "                    category TEXT\n",
    "                 )''')\n",
    "\n",
    "# Create SentimentAnalysis table\n",
    "cursor.execute('''CREATE TABLE SentimentAnalysis (\n",
    "                    id SERIAL PRIMARY KEY,\n",
    "                    article_id INT,\n",
    "                    title_sentiment REAL,\n",
    "                    FOREIGN KEY (article_id) REFERENCES Articles(article_id)\n",
    "                 )''')\n",
    "\n",
    "# Create CombinedCountryMentions table\n",
    "cursor.execute('''CREATE TABLE CombinedCountryMentions (\n",
    "                    id SERIAL PRIMARY KEY,\n",
    "                    country_name TEXT,\n",
    "                    article_id INT,\n",
    "                    mentioned_countries_count INT,\n",
    "                    FOREIGN KEY (article_id) REFERENCES Articles(article_id)\n",
    "                 )''')\n",
    "\n",
    "# Create Domain table\n",
    "cursor.execute('''CREATE TABLE Domain (\n",
    "                    id SERIAL PRIMARY KEY,\n",
    "                    article_id INT,\n",
    "                    domain TEXT,\n",
    "                    FOREIGN KEY (article_id) REFERENCES Articles(article_id)\n",
    "                 )''')\n",
    "\n",
    "# Create CleanContent table\n",
    "cursor.execute('''CREATE TABLE CleanContent (\n",
    "                    id SERIAL PRIMARY KEY,\n",
    "                    article_id INT,\n",
    "                    clean_content TEXT,\n",
    "                    FOREIGN KEY (article_id) REFERENCES Articles(article_id)\n",
    "                 )''')\n",
    "\n",
    "# Create TopicCategory table\n",
    "cursor.execute('''CREATE TABLE TopicCategory (\n",
    "                    id SERIAL PRIMARY KEY,\n",
    "                    article_id INT,\n",
    "                    topic_category TEXT,\n",
    "                    FOREIGN KEY (article_id) REFERENCES Articles(article_id)\n",
    "                 )''')\n",
    "\n",
    "# Create Date table\n",
    "cursor.execute('''CREATE TABLE Date (\n",
    "                    id SERIAL PRIMARY KEY,\n",
    "                    article_id INT,\n",
    "                    year_month TEXT,\n",
    "                    date DATE,\n",
    "                    FOREIGN KEY (article_id) REFERENCES Articles(article_id)\n",
    "                 )''')\n",
    "\n",
    "# Create Cluster table\n",
    "cursor.execute('''CREATE TABLE Cluster (\n",
    "                    id SERIAL PRIMARY KEY,\n",
    "                    article_id INT,\n",
    "                    cluster INT,\n",
    "                    FOREIGN KEY (article_id) REFERENCES Articles(article_id)\n",
    "                 )''')\n"
   ]
  },
  {
   "cell_type": "markdown",
   "metadata": {},
   "source": [
    "Loading ML Features / Inserting Data"
   ]
  },
  {
   "cell_type": "code",
   "execution_count": null,
   "metadata": {},
   "outputs": [],
   "source": []
  }
 ],
 "metadata": {
  "kernelspec": {
   "display_name": "venv",
   "language": "python",
   "name": "python3"
  },
  "language_info": {
   "codemirror_mode": {
    "name": "ipython",
    "version": 3
   },
   "file_extension": ".py",
   "mimetype": "text/x-python",
   "name": "python",
   "nbconvert_exporter": "python",
   "pygments_lexer": "ipython3",
   "version": "3.10.12"
  }
 },
 "nbformat": 4,
 "nbformat_minor": 2
}
