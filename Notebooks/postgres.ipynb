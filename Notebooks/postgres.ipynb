{
 "cells": [
  {
   "cell_type": "markdown",
   "metadata": {},
   "source": [
    "Creating PostgreSQL Tables with Python "
   ]
  },
  {
   "cell_type": "code",
   "execution_count": 4,
   "metadata": {},
   "outputs": [],
   "source": [
    "import psycopg2\n",
    "from dotenv import load_dotenv\n",
    "import os\n",
    "import pandas as pd"
   ]
  },
  {
   "cell_type": "markdown",
   "metadata": {},
   "source": [
    "Connect to the PostgreSQL database"
   ]
  },
  {
   "cell_type": "code",
   "execution_count": 5,
   "metadata": {},
   "outputs": [],
   "source": [
    "# Load environment variables from .env file\n",
    "load_dotenv()\n",
    "\n",
    "# Connect to the PostgreSQL database using environment variables\n",
    "conn = psycopg2.connect(\n",
    "    dbname=os.getenv('DB_NAME'),\n",
    "    user=os.getenv('DB_USER'),\n",
    "    password=os.getenv('DB_PASSWORD'),\n",
    "    host=os.getenv('DB_HOST'),\n",
    "    port=os.getenv('DB_PORT')\n",
    ")"
   ]
  },
  {
   "cell_type": "code",
   "execution_count": null,
   "metadata": {},
   "outputs": [],
   "source": [
    "# Create a new database\n",
    "conn.autocommit = True\n",
    "cursor = conn.cursor()\n",
    "cursor.execute(\"CREATE DATABASE week0_db\")\n",
    "conn.close()"
   ]
  },
  {
   "cell_type": "code",
   "execution_count": 6,
   "metadata": {},
   "outputs": [],
   "source": [
    "# Connect to the newly created database\n",
    "conn = psycopg2.connect(\n",
    "    dbname=os.getenv('WEEK0_DB_NAME'),\n",
    "    user=os.getenv('DB_USER'),\n",
    "    password=os.getenv('DB_PASSWORD'),\n",
    "    host=os.getenv('DB_HOST'),\n",
    "    port=os.getenv('DB_PORT')\n",
    ")"
   ]
  },
  {
   "cell_type": "code",
   "execution_count": 7,
   "metadata": {},
   "outputs": [],
   "source": [
    "# Create a cursor Object\n",
    "cursor = conn.cursor()"
   ]
  },
  {
   "cell_type": "markdown",
   "metadata": {},
   "source": [
    "Creating Tables"
   ]
  },
  {
   "cell_type": "code",
   "execution_count": 12,
   "metadata": {},
   "outputs": [
    {
     "ename": "InFailedSqlTransaction",
     "evalue": "current transaction is aborted, commands ignored until end of transaction block\n",
     "output_type": "error",
     "traceback": [
      "\u001b[0;31m---------------------------------------------------------------------------\u001b[0m",
      "\u001b[0;31mInFailedSqlTransaction\u001b[0m                    Traceback (most recent call last)",
      "Cell \u001b[0;32mIn[12], line 2\u001b[0m\n\u001b[1;32m      1\u001b[0m \u001b[38;5;66;03m# Create Articles table\u001b[39;00m\n\u001b[0;32m----> 2\u001b[0m \u001b[43mcursor\u001b[49m\u001b[38;5;241;43m.\u001b[39;49m\u001b[43mexecute\u001b[49m\u001b[43m(\u001b[49m\u001b[38;5;124;43m'''\u001b[39;49m\u001b[38;5;124;43mCREATE TABLE Articles (\u001b[39;49m\n\u001b[1;32m      3\u001b[0m \u001b[38;5;124;43m                    article_id SERIAL PRIMARY KEY,\u001b[39;49m\n\u001b[1;32m      4\u001b[0m \u001b[38;5;124;43m                    source_name TEXT,\u001b[39;49m\n\u001b[1;32m      5\u001b[0m \u001b[38;5;124;43m                    author TEXT,\u001b[39;49m\n\u001b[1;32m      6\u001b[0m \u001b[38;5;124;43m                    title TEXT,\u001b[39;49m\n\u001b[1;32m      7\u001b[0m \u001b[38;5;124;43m                    description TEXT,\u001b[39;49m\n\u001b[1;32m      8\u001b[0m \u001b[38;5;124;43m                    url TEXT,\u001b[39;49m\n\u001b[1;32m      9\u001b[0m \u001b[38;5;124;43m                    url_to_image TEXT,\u001b[39;49m\n\u001b[1;32m     10\u001b[0m \u001b[38;5;124;43m                    published_at TIMESTAMP,\u001b[39;49m\n\u001b[1;32m     11\u001b[0m \u001b[38;5;124;43m                    content TEXT,\u001b[39;49m\n\u001b[1;32m     12\u001b[0m \u001b[38;5;124;43m                    category TEXT\u001b[39;49m\n\u001b[1;32m     13\u001b[0m \u001b[38;5;124;43m                 )\u001b[39;49m\u001b[38;5;124;43m'''\u001b[39;49m\u001b[43m)\u001b[49m\n\u001b[1;32m     15\u001b[0m \u001b[38;5;66;03m# Create SentimentAnalysis table\u001b[39;00m\n\u001b[1;32m     16\u001b[0m cursor\u001b[38;5;241m.\u001b[39mexecute(\u001b[38;5;124m'''\u001b[39m\u001b[38;5;124mCREATE TABLE SentimentAnalysis (\u001b[39m\n\u001b[1;32m     17\u001b[0m \u001b[38;5;124m                    id SERIAL PRIMARY KEY,\u001b[39m\n\u001b[1;32m     18\u001b[0m \u001b[38;5;124m                    article_id INT,\u001b[39m\n\u001b[1;32m     19\u001b[0m \u001b[38;5;124m                    title_sentiment TEXT,\u001b[39m\n\u001b[1;32m     20\u001b[0m \u001b[38;5;124m                    FOREIGN KEY (article_id) REFERENCES Articles(article_id)\u001b[39m\n\u001b[1;32m     21\u001b[0m \u001b[38;5;124m                 )\u001b[39m\u001b[38;5;124m'''\u001b[39m)\n",
      "\u001b[0;31mInFailedSqlTransaction\u001b[0m: current transaction is aborted, commands ignored until end of transaction block\n"
     ]
    }
   ],
   "source": [
    "# Create Articles table\n",
    "cursor.execute('''CREATE TABLE Articles (\n",
    "                    article_id SERIAL PRIMARY KEY,\n",
    "                    source_name TEXT,\n",
    "                    author TEXT,\n",
    "                    title TEXT,\n",
    "                    description TEXT,\n",
    "                    url TEXT,\n",
    "                    url_to_image TEXT,\n",
    "                    published_at TIMESTAMP,\n",
    "                    content TEXT,\n",
    "                    category TEXT\n",
    "                 )''')\n",
    "\n",
    "# Create SentimentAnalysis table\n",
    "cursor.execute('''CREATE TABLE SentimentAnalysis (\n",
    "                    id SERIAL PRIMARY KEY,\n",
    "                    article_id INT,\n",
    "                    title_sentiment TEXT,\n",
    "                    FOREIGN KEY (article_id) REFERENCES Articles(article_id)\n",
    "                 )''')\n",
    "\n",
    "# Create CombinedCountryMentions table\n",
    "cursor.execute('''CREATE TABLE CombinedCountryMentions (\n",
    "                    id SERIAL PRIMARY KEY,\n",
    "                    country_name TEXT,\n",
    "                    article_id INT,\n",
    "                    mentioned_countries_count INT,\n",
    "                    FOREIGN KEY (article_id) REFERENCES Articles(article_id)\n",
    "                 )''')\n",
    "\n",
    "# Create Domain table\n",
    "cursor.execute('''CREATE TABLE Domain (\n",
    "                    id SERIAL PRIMARY KEY,\n",
    "                    article_id INT,\n",
    "                    domain TEXT,\n",
    "                    FOREIGN KEY (article_id) REFERENCES Articles(article_id)\n",
    "                 )''')\n",
    "\n",
    "# Create CleanContent table\n",
    "cursor.execute('''CREATE TABLE CleanContent (\n",
    "                    id SERIAL PRIMARY KEY,\n",
    "                    article_id INT,\n",
    "                    clean_content TEXT,\n",
    "                    FOREIGN KEY (article_id) REFERENCES Articles(article_id)\n",
    "                 )''')\n",
    "\n",
    "# Create TopicCategory table\n",
    "cursor.execute('''CREATE TABLE TopicCategory (\n",
    "                    id SERIAL PRIMARY KEY,\n",
    "                    article_id INT,\n",
    "                    topic_category TEXT,\n",
    "                    FOREIGN KEY (article_id) REFERENCES Articles(article_id)\n",
    "                 )''')\n",
    "\n",
    "# Create Date table\n",
    "cursor.execute('''CREATE TABLE Date (\n",
    "                    id SERIAL PRIMARY KEY,\n",
    "                    article_id INT,\n",
    "                    year_month TEXT,\n",
    "                    date DATE,\n",
    "                    FOREIGN KEY (article_id) REFERENCES Articles(article_id)\n",
    "                 )''')\n",
    "\n",
    "# Create Cluster table\n",
    "cursor.execute('''CREATE TABLE Cluster (\n",
    "                    id SERIAL PRIMARY KEY,\n",
    "                    article_id INT,\n",
    "                    cluster INT,\n",
    "                    FOREIGN KEY (article_id) REFERENCES Articles(article_id)\n",
    "                 )''')\n"
   ]
  },
  {
   "cell_type": "markdown",
   "metadata": {},
   "source": [
    "Loading ML Features / Inserting Data"
   ]
  },
  {
   "cell_type": "code",
   "execution_count": 9,
   "metadata": {},
   "outputs": [],
   "source": [
    "df_data = pd.read_csv(\"/media/moraa/New Volume/Ontita/10Academy/Cohort B/Projects/week0/Datasets/data.csv/rating.csv\")"
   ]
  },
  {
   "cell_type": "code",
   "execution_count": 10,
   "metadata": {},
   "outputs": [],
   "source": [
    "# insert data from the df_data DataFrame into the Articles table.\n",
    "for index, row in df_data.iterrows():\n",
    "    cursor.execute('''INSERT INTO Articles (source_name, author, title, description, url, url_to_image, published_at, content, category)\n",
    "                      VALUES (%s, %s, %s, %s, %s, %s, %s, %s, %s)''',\n",
    "                   (row['source_name'], row['author'], row['title'], row['description'], row['url'], row['url_to_image'], row['published_at'], row['content'], row['category']))\n"
   ]
  },
  {
   "cell_type": "code",
   "execution_count": 11,
   "metadata": {},
   "outputs": [
    {
     "ename": "InvalidTextRepresentation",
     "evalue": "invalid input syntax for type real: \"Neutral\"\nLINE 2:                       VALUES (81664, 'Neutral')\n                                             ^\n",
     "output_type": "error",
     "traceback": [
      "\u001b[0;31m---------------------------------------------------------------------------\u001b[0m",
      "\u001b[0;31mInvalidTextRepresentation\u001b[0m                 Traceback (most recent call last)",
      "Cell \u001b[0;32mIn[11], line 3\u001b[0m\n\u001b[1;32m      1\u001b[0m \u001b[38;5;66;03m# insert data from the df_data DataFrame into the Articles table.\u001b[39;00m\n\u001b[1;32m      2\u001b[0m \u001b[38;5;28;01mfor\u001b[39;00m index, row \u001b[38;5;129;01min\u001b[39;00m df_data\u001b[38;5;241m.\u001b[39miterrows():\n\u001b[0;32m----> 3\u001b[0m     \u001b[43mcursor\u001b[49m\u001b[38;5;241;43m.\u001b[39;49m\u001b[43mexecute\u001b[49m\u001b[43m(\u001b[49m\u001b[38;5;124;43m'''\u001b[39;49m\u001b[38;5;124;43mINSERT INTO SentimentAnalysis (article_id, title_sentiment)\u001b[39;49m\n\u001b[1;32m      4\u001b[0m \u001b[38;5;124;43m                      VALUES (\u001b[39;49m\u001b[38;5;132;43;01m%s\u001b[39;49;00m\u001b[38;5;124;43m, \u001b[39;49m\u001b[38;5;132;43;01m%s\u001b[39;49;00m\u001b[38;5;124;43m)\u001b[39;49m\u001b[38;5;124;43m'''\u001b[39;49m\u001b[43m,\u001b[49m\n\u001b[1;32m      5\u001b[0m \u001b[43m                   \u001b[49m\u001b[43m(\u001b[49m\u001b[43mrow\u001b[49m\u001b[43m[\u001b[49m\u001b[38;5;124;43m'\u001b[39;49m\u001b[38;5;124;43marticle_id\u001b[39;49m\u001b[38;5;124;43m'\u001b[39;49m\u001b[43m]\u001b[49m\u001b[43m,\u001b[49m\u001b[43m \u001b[49m\u001b[43mrow\u001b[49m\u001b[43m[\u001b[49m\u001b[38;5;124;43m'\u001b[39;49m\u001b[38;5;124;43mtitle_sentiment\u001b[39;49m\u001b[38;5;124;43m'\u001b[39;49m\u001b[43m]\u001b[49m\u001b[43m)\u001b[49m\u001b[43m)\u001b[49m\n",
      "\u001b[0;31mInvalidTextRepresentation\u001b[0m: invalid input syntax for type real: \"Neutral\"\nLINE 2:                       VALUES (81664, 'Neutral')\n                                             ^\n"
     ]
    }
   ],
   "source": [
    "# insert data from the df_data DataFrame into the SentimentAnalysis table.\n",
    "for index, row in df_data.iterrows():\n",
    "    cursor.execute('''INSERT INTO SentimentAnalysis (article_id, title_sentiment)\n",
    "                      VALUES (%s, %s)''',\n",
    "                   (row['article_id'], row['title_sentiment']))"
   ]
  }
 ],
 "metadata": {
  "kernelspec": {
   "display_name": "venv",
   "language": "python",
   "name": "python3"
  },
  "language_info": {
   "codemirror_mode": {
    "name": "ipython",
    "version": 3
   },
   "file_extension": ".py",
   "mimetype": "text/x-python",
   "name": "python",
   "nbconvert_exporter": "python",
   "pygments_lexer": "ipython3",
   "version": "3.10.12"
  }
 },
 "nbformat": 4,
 "nbformat_minor": 2
}
